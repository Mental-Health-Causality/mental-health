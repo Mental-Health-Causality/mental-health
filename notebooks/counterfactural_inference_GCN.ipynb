{
 "cells": [
  {
   "cell_type": "code",
   "execution_count": 1,
   "metadata": {},
   "outputs": [],
   "source": [
    "import torch\n",
    "import pandas as pd\n",
    "import numpy as np\n",
    "\n",
    "# Import dataset utils\n",
    "from torch.utils.data import Dataset, DataLoader\n",
    "from sklearn.model_selection import train_test_split\n",
    "\n",
    "import torch.nn as nn\n",
    "import torch.nn.functional as F\n",
    "\n",
    "import matplotlib.pyplot as plt\n",
    "\n",
    "import importlib\n",
    "if importlib.util.find_spec('ipywidgets') is not None:\n",
    "    from tqdm.auto import tqdm\n",
    "else:\n",
    "    from tqdm import tqdm\n",
    "\n",
    "import networkx as nx\n",
    "\n",
    "from typing import Union"
   ]
  },
  {
   "cell_type": "code",
   "execution_count": 2,
   "metadata": {},
   "outputs": [
    {
     "data": {
      "text/plain": [
       "(3953, 68)"
      ]
     },
     "execution_count": 2,
     "metadata": {},
     "output_type": "execute_result"
    }
   ],
   "source": [
    "dataframe = pd.read_csv('../data/final.csv', sep=';')\n",
    "\n",
    "dataframe = dataframe.drop(['Chave'], axis=1)\n",
    "dataframe = dataframe.fillna(-1)\n",
    "dataframe['Anos educacao formal'] = dataframe['Anos educacao formal'].replace(-5, -1)\n",
    "dataframe['sexo'].replace({'M': 0, 'F': 1}, inplace=True)\n",
    "df_suic = dataframe.copy()\n",
    "df_suic = df_suic.astype(float)\n",
    "df_suic.shape"
   ]
  },
  {
   "cell_type": "code",
   "execution_count": 3,
   "metadata": {},
   "outputs": [
    {
     "data": {
      "text/plain": [
       "Index(['sexo', 'Estado_civil', 'Status_empl', 'Licenca', 'Tipo_Resid',\n",
       "       'Residencia', 'Alcoolatra', 'Droga', 'Suic_familia', 'Dep_familia',\n",
       "       'Bip_familia', 'Alc_familia', 'Drog_familia', 'coracao', 'vascular',\n",
       "       'hematopoetico', 'Olho_ore_nariz_garg_lar', 'GI_sup', 'Gi_inf', 'Renal',\n",
       "       'Genito_urinario', 'Musculoesqueletico', 'Neuro', 'psiquiatrica',\n",
       "       'Respiratorio', 'Figado', 'Endocrino_metabolico',\n",
       "       'Anos educacao formal', 'Capaz de desfrutar das coisas',\n",
       "       'Impacto de sua familia e amigos',\n",
       "       'Numero de amigos vivendo com paciente',\n",
       "       'Capaz de tomar decisões importantes',\n",
       "       'Numero de parentes vivendo com paciente',\n",
       "       'Conjuge_companheiro vive com paciente', 'Estudante',\n",
       "       'Numero total de pessoas em casa', 'Receber dinheiro do emprego',\n",
       "       'Renda mensal', 'Recebe assistencia publica', 'Insonia',\n",
       "       'Insonia media', 'Insonia tardia', 'Deprimido', 'Ansiedade',\n",
       "       'Perda de insights', 'Apetite', 'Perda de peso', 'Ansiedade somática',\n",
       "       'Hipocondriase', 'Sentimentos_culpa', 'Suicidio',\n",
       "       'Trabalho e interesses', 'Energia', 'Lentidao pensamento e fala',\n",
       "       'Agitação', 'Libido', 'Pontuação total',\n",
       "       'Eixo I: Panico com agorafobia', 'Eixo I: Panico sem agorafobia',\n",
       "       'Eixo I: Fobia especifica', 'Eixo I: Fobia social',\n",
       "       'Eixo I: Obsessivo-compulsivo', 'Eixo I: Estresse pos-traumatico',\n",
       "       'Eixo I: Ansiedade generalizada', 'Eixo II: Personalidade paranoica',\n",
       "       'Eixo II: Transtorno de personalidade', 'TOC', 'idade'],\n",
       "      dtype='object')"
      ]
     },
     "execution_count": 3,
     "metadata": {},
     "output_type": "execute_result"
    }
   ],
   "source": [
    "# print collumns\n",
    "df_suic.columns"
   ]
  },
  {
   "cell_type": "code",
   "execution_count": 4,
   "metadata": {},
   "outputs": [],
   "source": [
    "notears_selected = [\n",
    "    \"Suic_familia\",\n",
    "    \"Drog_familia\",\n",
    "    \"Capaz de tomar decisões importantes\",\n",
    "    \"Estudante\",\n",
    "    \"Hipocondriase\",\n",
    "    \"Sentimentos_culpa\",\n",
    "    \"Trabalho e interesses\",\n",
    "    \"Energia\",\n",
    "    \"Lentidao pensamento e fala\",\n",
    "    \"Perda de insights\",\n",
    "\n",
    "    \"Suicidio\",\n",
    "    \"Ansiedade\",\n",
    "   \n",
    "]"
   ]
  },
  {
   "attachments": {},
   "cell_type": "markdown",
   "metadata": {},
   "source": [
    "# Create datasets\n",
    "\n",
    "The first one is normal and the second has the graph structur"
   ]
  },
  {
   "cell_type": "code",
   "execution_count": 5,
   "metadata": {},
   "outputs": [],
   "source": [
    "def adj_to_edge_index(adj):\n",
    "    edge_index = []\n",
    "    for i in range(adj.shape[0]):\n",
    "        for j in range(adj.shape[1]):\n",
    "            edge_index.append([i, j])\n",
    "    return torch.tensor(edge_index, dtype=torch.float).t().contiguous()\n",
    "\n",
    "# Dataset from X \n",
    "class CausalDataset(Dataset):\n",
    "    def __init__(self, X, target:Union[list, int]):\n",
    "        self.X = torch.tensor(X, dtype=torch.double)\n",
    "        self.target = target\n",
    "        if isinstance(target, int):\n",
    "            self.target = [target]\n",
    "        \n",
    "\n",
    "        # X is every variable except the target list\n",
    "        dims = list(range(self.X.shape[1]))\n",
    "        self.x = self.X[:, [i for i in dims if i not in self.target]]\n",
    "        self.y = self.X[:, self.target]\n",
    "\n",
    "    def __len__(self):\n",
    "        return len(self.x)\n",
    "\n",
    "    def __getitem__(self, idx):\n",
    "        return self.x[idx].double(), self.y[idx].double()\n",
    "\n",
    "from torch_geometric.data import Data\n",
    "\n",
    "class CausalGraphDataset(Dataset):\n",
    "    def __init__(self, X, target, adj_matrix):\n",
    "        self.X = torch.tensor(X, dtype=torch.double)\n",
    "        self.adj_matrix = torch.tensor(adj_matrix, dtype=torch.double)\n",
    "        self.edge_index = adj_to_edge_index(self.adj_matrix).long()\n",
    "        self.target = target\n",
    "\n",
    "    def __len__(self):\n",
    "        return len(self.X)\n",
    "\n",
    "    def __getitem__(self, idx):\n",
    "        x = self.X[idx].clone()\n",
    "        x[self.target] = 0\n",
    "        x = x.unsqueeze(-1)\n",
    "        return Data(x=x, edge_index=self.edge_index), self.X[idx, self.target]"
   ]
  },
  {
   "attachments": {},
   "cell_type": "markdown",
   "metadata": {},
   "source": [
    "# Create Models"
   ]
  },
  {
   "cell_type": "code",
   "execution_count": 6,
   "metadata": {},
   "outputs": [],
   "source": [
    "from torch_geometric.nn import models as GeometricModels\n",
    "\n",
    "# Create a MLP that takes as input a list of dimensions\n",
    "class MLP(torch.nn.Module):\n",
    "    def __init__(self, dim_list:list, add_dropout:bool=False):\n",
    "        super(MLP, self).__init__()\n",
    "        self.layers = torch.nn.ModuleList()\n",
    "        for i in range(len(dim_list) - 2):\n",
    "            self.layers.append(torch.nn.Linear(dim_list[i], dim_list[i+1]))\n",
    "            self.layers.append(torch.nn.ReLU())\n",
    "            if add_dropout:\n",
    "                self.layers.append(torch.nn.Dropout(0.3))\n",
    "\n",
    "        self.layers.append(torch.nn.Linear(dim_list[-2], dim_list[-1]))\n",
    "        self.double()\n",
    "\n",
    "    def forward(self, x):\n",
    "        for layer in self.layers:\n",
    "            x = layer(x)\n",
    "        return x\n",
    "\n",
    "class GCN(torch.nn.Module):\n",
    "    def __init__(self, input_dim:int, hidden_dim:int, output_dim:int, n_layers:int, target:Union[list, int]):\n",
    "        super(GCN, self).__init__()\n",
    "\n",
    "        self.target = target\n",
    "        if isinstance(target, int):\n",
    "            self.target = [target]\n",
    "\n",
    "        self.net = GeometricModels.GCN(in_channels=input_dim, hidden_channels=hidden_dim, out_channels=output_dim, num_layers=n_layers)\n",
    "\n",
    "    def forward(self, data):\n",
    "        x = data.x\n",
    "        edge_index = data.edge_index\n",
    "        y_hat = self.net(x, edge_index)\n",
    "\n",
    "        # check if data has batch\n",
    "        if hasattr(data, 'batch'):\n",
    "            batch_size = data.batch[-1].item() + 1\n",
    "            reshaped_y_hat = y_hat.reshape(batch_size, -1)\n",
    "            return reshaped_y_hat[:, self.target]\n",
    "        else:\n",
    "            return y_hat[self.target]"
   ]
  },
  {
   "attachments": {},
   "cell_type": "markdown",
   "metadata": {},
   "source": [
    "# Out train pipeline"
   ]
  },
  {
   "cell_type": "code",
   "execution_count": 26,
   "metadata": {},
   "outputs": [],
   "source": [
    "def trainPipeline(dataset, model, batch_size=64, train_split=0.8, verbose=True, max_epochs=100, patience=10, lr=0.001, weight_decay=0.0, loss_fn=nn.MSELoss()):\n",
    "    train_size = int(train_split * len(dataset))\n",
    "    test_size = len(dataset) - train_size\n",
    "    train_dataset, test_dataset = torch.utils.data.random_split(dataset, [train_size, test_size])\n",
    "\n",
    "    train_loader = DataLoader(train_dataset, batch_size=batch_size, shuffle=True)\n",
    "    test_loader = DataLoader(test_dataset, batch_size=batch_size, shuffle=True)\n",
    "\n",
    "    criterion = loss_fn\n",
    "    optimizer = torch.optim.Adam(model.parameters(), lr=lr, weight_decay=weight_decay)\n",
    "\n",
    "    patience = patience\n",
    "\n",
    "    train_losses = []\n",
    "    test_losses = []\n",
    "    for epoch in tqdm(range(max_epochs)):\n",
    "        train_loss = 0\n",
    "        model.train()\n",
    "        for data, target in train_loader:\n",
    "            optimizer.zero_grad()\n",
    "            output = model(data)\n",
    "            loss = criterion(output, target)\n",
    "            loss.backward()\n",
    "            optimizer.step()\n",
    "            train_loss += loss.item()\n",
    "        train_loss /= len(train_loader)\n",
    "        train_losses.append(train_loss)\n",
    "\n",
    "        test_loss = 0\n",
    "        model.eval()\n",
    "        with torch.no_grad():\n",
    "            for data, target in test_loader:\n",
    "                output = model(data)\n",
    "                loss = criterion(output, target)\n",
    "                test_loss += loss.item()\n",
    "        test_loss /= len(test_loader)\n",
    "        test_losses.append(test_loss)\n",
    "\n",
    "        if verbose:\n",
    "            print(f\"Epoch {epoch} - Train loss: {train_loss} - Test loss: {test_loss}\")\n",
    "\n",
    "        # add early stopping with patience variable\n",
    "        if epoch > 10:\n",
    "            all_patience = test_losses[-patience:]\n",
    "            test_loss = test_losses[-1]\n",
    "            if all([test_loss > x for x in all_patience]):\n",
    "                print(\"Early stopping\")\n",
    "                break\n",
    "\n",
    "\n",
    "    # test model on test set and calculate accuracy\n",
    "    model.eval()\n",
    "    with torch.no_grad():\n",
    "        y_pred_test = []\n",
    "        y_true_test = []\n",
    "        y_pred_train = []\n",
    "        y_true_train = []\n",
    "\n",
    "        for data, target in train_loader:\n",
    "            output = model(data)\n",
    "            y_pred_train.append(output)\n",
    "            y_true_train.append(target)\n",
    "        for data, target in test_loader:\n",
    "            output = model(data)\n",
    "            y_pred_test.append(output)\n",
    "            y_true_test.append(target)\n",
    "\n",
    "        y_pred_test = torch.cat(y_pred_test, dim=0)\n",
    "        y_true_test = torch.cat(y_true_test, dim=0)\n",
    "        y_pred_train = torch.cat(y_pred_train, dim=0)\n",
    "        y_true_train = torch.cat(y_true_train, dim=0)\n",
    "\n",
    "        train_error = torch.abs(y_pred_train - y_true_train)\n",
    "        test_error = torch.abs(y_pred_test - y_true_test)\n",
    "\n",
    "        # calculate accuracy for each target\n",
    "        test_accuracy = []\n",
    "        train_accuracy = []\n",
    "        for i in range(len(y_true_test[0])):\n",
    "            test_accuracy.append(torch.sum(test_error[:, i] < 0.5) / len(test_error))\n",
    "            train_accuracy.append(torch.sum(train_error[:, i] < 0.5) / len(train_error))      \n",
    "\n",
    "        print(f\"Final Train accuracy: {train_accuracy}\")\n",
    "        print(f\"Final Test accuracy: {test_accuracy}\")      \n",
    "\n",
    "    metrics = {\n",
    "        \"train_loss\": train_losses,\n",
    "        \"test_loss\": test_losses,\n",
    "        \"train_error\": train_error,\n",
    "        \"test_error\": test_error,\n",
    "        \"test_accuracy\": test_accuracy\n",
    "    }\n",
    "\n",
    "    return model, metrics\n"
   ]
  },
  {
   "attachments": {},
   "cell_type": "markdown",
   "metadata": {},
   "source": [
    "# Now we train the conterfactual net without causal features selecion"
   ]
  },
  {
   "attachments": {},
   "cell_type": "markdown",
   "metadata": {},
   "source": [
    "## First train one model for each target and get errors value"
   ]
  },
  {
   "cell_type": "code",
   "execution_count": 37,
   "metadata": {},
   "outputs": [
    {
     "name": "stderr",
     "output_type": "stream",
     "text": [
      "100%|██████████| 300/300 [00:35<00:00,  8.49it/s]\n",
      "  0%|          | 1/300 [00:00<00:35,  8.52it/s]"
     ]
    },
    {
     "name": "stdout",
     "output_type": "stream",
     "text": [
      "Final Train accuracy: [tensor(0.6762)]\n",
      "Final Test accuracy: [tensor(0.6612)]\n"
     ]
    },
    {
     "name": "stderr",
     "output_type": "stream",
     "text": [
      "100%|██████████| 300/300 [00:36<00:00,  8.24it/s]\n"
     ]
    },
    {
     "name": "stdout",
     "output_type": "stream",
     "text": [
      "Final Train accuracy: [tensor(0.7473)]\n",
      "Final Test accuracy: [tensor(0.7219)]\n"
     ]
    },
    {
     "data": {
      "image/png": "[encoded data removed]",
      "text/plain": [
       "<Figure size 1440x360 with 2 Axes>"
      ]
     },
     "metadata": {
      "needs_background": "light"
     },
     "output_type": "display_data"
    },
    {
     "data": {
      "image/png": "[encoded data removed]",
      "text/plain": [
       "<Figure size 1440x360 with 2 Axes>"
      ]
     },
     "metadata": {
      "needs_background": "light"
     },
     "output_type": "display_data"
    }
   ],
   "source": [
    "# get the target collumns indexes\n",
    "targets = [\"Suicidio\", \"Ansiedade\"]\n",
    "targets_idx = [df_suic.columns.get_loc(c) for c in targets]\n",
    "\n",
    "# Create the dataset\n",
    "suic_dataset = CausalDataset(df_suic.values, targets_idx[0])\n",
    "anx_dataset = CausalDataset(df_suic.values, targets_idx[1])\n",
    "sample_x, sample_y = suic_dataset[0]\n",
    "\n",
    "# Now we predict the first target with a MLP\n",
    "suic_model = MLP([sample_x.shape[0], 64, 64, 64, 1], add_dropout=True)\n",
    "anx_model = MLP([sample_x.shape[0], 64, 64, 64, 1], add_dropout=True)\n",
    "\n",
    "suic_model, suic_metrics = trainPipeline(suic_dataset, suic_model, verbose=False, max_epochs=300, weight_decay=1e-5)\n",
    "anx_model, anx_metrics = trainPipeline(anx_dataset, anx_model, verbose=False, max_epochs=300, weight_decay=1e-5)\n",
    "\n",
    "# plot the losses with subplots\n",
    "fig, axs = plt.subplots(1, 2, figsize=(20, 5))\n",
    "fig.suptitle(\"Losses\")\n",
    "axs[0].plot(suic_metrics[\"train_loss\"], label=\"Train\")\n",
    "axs[0].plot(suic_metrics[\"test_loss\"], label=\"Test\")\n",
    "axs[0].set_title(\"Suicidio\")\n",
    "axs[0].legend()\n",
    "\n",
    "axs[1].plot(anx_metrics[\"train_loss\"], label=\"Train\")\n",
    "axs[1].plot(anx_metrics[\"test_loss\"], label=\"Test\")\n",
    "axs[1].set_title(\"Ansiedade\")\n",
    "axs[1].legend()\n",
    "\n",
    "plt.show()\n",
    "\n",
    "\n",
    "#  plot errors hist with subplots\n",
    "fig, axs = plt.subplots(1, 2, figsize=(20, 5))\n",
    "fig.suptitle(\"Errors\")\n",
    "axs[0].hist(suic_metrics[\"train_error\"][:,0], label=\"Train\", bins=100)\n",
    "axs[0].hist(suic_metrics[\"test_error\"][:,0], label=\"Test\", bins=100)\n",
    "axs[0].set_title(\"Suicidio\")\n",
    "\n",
    "axs[1].hist(anx_metrics[\"train_error\"][:,0], label=\"Train\", bins=100)\n",
    "axs[1].hist(anx_metrics[\"test_error\"][:,0], label=\"Test\", bins=100)\n",
    "axs[1].set_title(\"Ansiedade\")\n",
    "\n",
    "plt.show()"
   ]
  },
  {
   "attachments": {},
   "cell_type": "markdown",
   "metadata": {},
   "source": [
    "## Now add the errors to the dataset and train the counterfactual model"
   ]
  },
  {
   "cell_type": "code",
   "execution_count": 38,
   "metadata": {},
   "outputs": [],
   "source": [
    "# Create the counterfactual model \n",
    "\n",
    "class CounterfactualModel(torch.nn.Module):\n",
    "    def __init__(self, input_size, hidden_size, output_size):\n",
    "        super(CounterfactualModel, self).__init__()\n",
    "        self.individuality_model = MLP([input_size, hidden_size, hidden_size, hidden_size, 1], add_dropout=True)\n",
    "        self.counterfactual_model = MLP([input_size+1, hidden_size, hidden_size, hidden_size, output_size], add_dropout=True)\n",
    "\n",
    "    def individuality(self, x):\n",
    "        return self.individuality_model(x)\n",
    "    \n",
    "    def counterfactual(self, x, i):\n",
    "        x = torch.cat([x, i], dim=1)\n",
    "        return self.counterfactual_model(x)\n",
    "    \n",
    "    def forward(self, x):\n",
    "        i = self.individuality(x)\n",
    "        y = self.counterfactual(x, i)\n",
    "        return y\n"
   ]
  },
  {
   "cell_type": "code",
   "execution_count": 39,
   "metadata": {},
   "outputs": [
    {
     "name": "stderr",
     "output_type": "stream",
     "text": [
      "100%|██████████| 300/300 [00:58<00:00,  5.12it/s]\n"
     ]
    },
    {
     "name": "stdout",
     "output_type": "stream",
     "text": [
      "Final Train accuracy: [tensor(0.6157), tensor(0.6891)]\n",
      "Final Test accuracy: [tensor(0.5158), tensor(0.5891)]\n"
     ]
    },
    {
     "data": {
      "image/png": "[encoded data removed]",
      "text/plain": [
       "<Figure size 720x360 with 1 Axes>"
      ]
     },
     "metadata": {
      "needs_background": "light"
     },
     "output_type": "display_data"
    }
   ],
   "source": [
    "# calculate errors\n",
    "suic_erros = []\n",
    "anx_erros = []\n",
    "with torch.no_grad():\n",
    "    for data, y_true in suic_dataset:\n",
    "        y_pred = suic_model(data)\n",
    "        error = torch.abs(y_pred - y_true).item()\n",
    "        suic_erros.append(error)\n",
    "    for data, y_true in anx_dataset:\n",
    "        y_pred = anx_model(data)\n",
    "        error = torch.abs(y_pred - y_true).item()\n",
    "        anx_erros.append(error)\n",
    "\n",
    "suic_erros = np.array(suic_erros)\n",
    "anx_erros = np.array(anx_erros)\n",
    "\n",
    "# add errors to the dataframe   \n",
    "df_suic_with_errors = df_suic.copy()\n",
    "df_suic_with_errors[\"Suicidio_error\"] = suic_erros\n",
    "df_suic_with_errors[\"Ansiedade_error\"] = anx_erros\n",
    "\n",
    "# create the causal dataset with the errors\n",
    "targets_idx = [df_suic_with_errors.columns.get_loc(c) for c in targets]\n",
    "causal_dataset_error = CausalDataset(df_suic_with_errors.values, targets_idx)\n",
    "sample_x, sample_y = causal_dataset_error[0]\n",
    "\n",
    "# create the counterfactual model\n",
    "cf_model = CounterfactualModel(sample_x.shape[0], 64, sample_y.shape[0])\n",
    "\n",
    "# train the counterfactual model\n",
    "cf_model, cf_metrics = trainPipeline(causal_dataset_error, cf_model, verbose=False, max_epochs=300, weight_decay=1e-5)\n",
    "\n",
    "# plot the losses \n",
    "plt.figure(figsize=(10, 5))\n",
    "plt.plot(cf_metrics[\"train_loss\"], label=\"Train\")\n",
    "plt.plot(cf_metrics[\"test_loss\"], label=\"Test\")\n",
    "plt.title(\"Losses\")\n",
    "plt.legend()\n",
    "plt.show()\n"
   ]
  },
  {
   "cell_type": "code",
   "execution_count": 49,
   "metadata": {},
   "outputs": [
    {
     "data": {
      "image/png": "[encoded data removed]",
      "text/plain": [
       "<Figure size 1440x360 with 2 Axes>"
      ]
     },
     "metadata": {
      "needs_background": "light"
     },
     "output_type": "display_data"
    },
    {
     "data": {
      "image/png": "[encoded data removed]",
      "text/plain": [
       "<Figure size 720x360 with 1 Axes>"
      ]
     },
     "metadata": {
      "needs_background": "light"
     },
     "output_type": "display_data"
    }
   ],
   "source": [
    "# plot the errors\n",
    "n_targets = len(targets)\n",
    "fig, axs = plt.subplots(1, n_targets, figsize=(20, 5))\n",
    "fig.suptitle(\"Errors\")\n",
    "for i in range(n_targets):\n",
    "    axs[i].hist(cf_metrics[\"train_error\"][:,i], label=\"Train\", bins=100)\n",
    "    axs[i].hist(cf_metrics[\"test_error\"][:,i], label=\"Test\", bins=100)\n",
    "    axs[i].set_title(targets[i])\n",
    "plt.show()\n",
    "\n",
    "# plot cf_metrics['test_accuracy'] bars with target names\n",
    "plt.figure(figsize=(10, 5))\n",
    "plt.bar(targets, cf_metrics[\"test_accuracy\"])\n",
    "plt.title(\"Test Accuracy\")\n",
    "# add the values to the bars\n",
    "for i, v in enumerate(cf_metrics[\"test_accuracy\"]):\n",
    "    plt.text(i, v, str(round(v.item(), 2)), color='blue', fontweight='bold')\n",
    "plt.show()\n"
   ]
  },
  {
   "attachments": {},
   "cell_type": "markdown",
   "metadata": {},
   "source": [
    "# Now we are going to redo everything, but with the NOTEAR features"
   ]
  },
  {
   "cell_type": "code",
   "execution_count": 50,
   "metadata": {},
   "outputs": [
    {
     "name": "stderr",
     "output_type": "stream",
     "text": [
      "100%|██████████| 1000/1000 [01:56<00:00,  8.58it/s]\n",
      "  0%|          | 1/1000 [00:00<01:57,  8.47it/s]"
     ]
    },
    {
     "name": "stdout",
     "output_type": "stream",
     "text": [
      "Final Train accuracy: [tensor(0.5443)]\n",
      "Final Test accuracy: [tensor(0.4273)]\n"
     ]
    },
    {
     "name": "stderr",
     "output_type": "stream",
     "text": [
      "100%|██████████| 1000/1000 [01:55<00:00,  8.69it/s]\n"
     ]
    },
    {
     "name": "stdout",
     "output_type": "stream",
     "text": [
      "Final Train accuracy: [tensor(0.5465)]\n",
      "Final Test accuracy: [tensor(0.4627)]\n"
     ]
    },
    {
     "data": {
      "image/png": "[encoded data removed]",
      "text/plain": [
       "<Figure size 1440x360 with 2 Axes>"
      ]
     },
     "metadata": {
      "needs_background": "light"
     },
     "output_type": "display_data"
    },
    {
     "data": {
      "image/png": "[encoded data removed]",
      "text/plain": [
       "<Figure size 1440x360 with 2 Axes>"
      ]
     },
     "metadata": {
      "needs_background": "light"
     },
     "output_type": "display_data"
    }
   ],
   "source": [
    "df_suic_notears = df_suic.copy()\n",
    "df_suic_notears = df_suic_notears[notears_selected]\n",
    "\n",
    "# create models for each target\n",
    "targets = [\"Suicidio\", \"Ansiedade\"]\n",
    "targets_idx = [df_suic_notears.columns.get_loc(c) for c in targets]\n",
    "\n",
    "# Create the dataset\n",
    "notears_suic_dataset = CausalDataset(df_suic_notears.values, targets_idx[0])\n",
    "notears_anx_dataset = CausalDataset(df_suic_notears.values, targets_idx[1])\n",
    "sample_x, sample_y = notears_suic_dataset[0]\n",
    "\n",
    "# Now we predict the targets with a MLP\n",
    "suic_causal_model = MLP([sample_x.shape[0], 64, 64, 64, 1], add_dropout=True)\n",
    "anx_causal_model = MLP([sample_x.shape[0], 64, 64, 64, 1], add_dropout=True)\n",
    "\n",
    "suic_causal_model, suic_causal_metrics = trainPipeline(notears_suic_dataset, suic_causal_model, verbose=False, max_epochs=1000, weight_decay=1e-5)\n",
    "anx_causal_model, anx_causal_metrics = trainPipeline(notears_anx_dataset, anx_causal_model, verbose=False, max_epochs=1000, weight_decay=1e-5)\n",
    "\n",
    "# plot the losses with subplots\n",
    "fig, axs = plt.subplots(1, 2, figsize=(20, 5))\n",
    "fig.suptitle(\"Losses\")\n",
    "axs[0].plot(suic_causal_metrics[\"train_loss\"], label=\"Train\")\n",
    "axs[0].plot(suic_causal_metrics[\"test_loss\"], label=\"Test\")\n",
    "axs[0].set_title(\"Suicidio\")\n",
    "axs[0].legend()\n",
    "\n",
    "axs[1].plot(anx_causal_metrics[\"train_loss\"], label=\"Train\")\n",
    "axs[1].plot(anx_causal_metrics[\"test_loss\"], label=\"Test\")\n",
    "axs[1].set_title(\"Ansiedade\")\n",
    "axs[1].legend()\n",
    "\n",
    "plt.show()\n",
    "\n",
    "#  plot errors hist with subplots\n",
    "fig, axs = plt.subplots(1, 2, figsize=(20, 5))\n",
    "fig.suptitle(\"Errors\")\n",
    "axs[0].hist(suic_causal_metrics[\"train_error\"][:,0], label=\"Train\", bins=100)\n",
    "axs[0].hist(suic_causal_metrics[\"test_error\"][:,0], label=\"Test\", bins=100)\n",
    "axs[0].set_title(\"Suicidio\")\n",
    "\n",
    "axs[1].hist(anx_causal_metrics[\"train_error\"][:,0], label=\"Train\", bins=100)\n",
    "axs[1].hist(anx_causal_metrics[\"test_error\"][:,0], label=\"Test\", bins=100)\n",
    "axs[1].set_title(\"Ansiedade\")\n",
    "\n",
    "plt.show()"
   ]
  },
  {
   "cell_type": "code",
   "execution_count": 53,
   "metadata": {},
   "outputs": [
    {
     "name": "stderr",
     "output_type": "stream",
     "text": [
      "100%|██████████| 1000/1000 [03:14<00:00,  5.13it/s]"
     ]
    },
    {
     "name": "stdout",
     "output_type": "stream",
     "text": [
      "Final Train accuracy: [tensor(0.8087), tensor(0.7577)]\n",
      "Final Test accuracy: [tensor(0.7118), tensor(0.6675)]\n"
     ]
    },
    {
     "name": "stderr",
     "output_type": "stream",
     "text": [
      "\n"
     ]
    }
   ],
   "source": [
    "# calculate errors\n",
    "suic_causal_erros = []\n",
    "anx_causal_erros = []\n",
    "with torch.no_grad():\n",
    "    for data, y_true in notears_suic_dataset:\n",
    "        y_pred = suic_causal_model(data)\n",
    "        error = torch.abs(y_pred - y_true).item()\n",
    "        suic_causal_erros.append(error)\n",
    "    for data, y_true in notears_anx_dataset:\n",
    "        y_pred = anx_causal_model(data)\n",
    "        error = torch.abs(y_pred - y_true).item()\n",
    "        anx_causal_erros.append(error)\n",
    "\n",
    "suic_causal_erros = np.array(suic_causal_erros)\n",
    "anx_causal_erros = np.array(anx_causal_erros)\n",
    "\n",
    "# add errors to the dataframe   \n",
    "df_suic_notears_with_errors = df_suic_notears.copy()\n",
    "df_suic_notears_with_errors[\"Suicidio_error\"] = suic_causal_erros\n",
    "df_suic_notears_with_errors[\"Ansiedade_error\"] = anx_causal_erros\n",
    "\n",
    "# create the causal dataset with the errors\n",
    "targets_idx = [df_suic_notears_with_errors.columns.get_loc(c) for c in targets]\n",
    "notears_causal_dataset_error = CausalDataset(df_suic_notears_with_errors.values, targets_idx)\n",
    "sample_x, sample_y = notears_causal_dataset_error[0]\n",
    "\n",
    "# create the counterfactual model\n",
    "causal_cf_model = CounterfactualModel(sample_x.shape[0], 64, sample_y.shape[0])\n",
    "\n",
    "# train the counterfactual model\n",
    "causal_cf_model, causal_cf_metrics = trainPipeline(notears_causal_dataset_error, causal_cf_model, verbose=False, max_epochs=1000, weight_decay=1e-5)\n"
   ]
  },
  {
   "cell_type": "code",
   "execution_count": 55,
   "metadata": {},
   "outputs": [
    {
     "data": {
      "image/png": "[encoded data removed]",
      "text/plain": [
       "<Figure size 720x360 with 1 Axes>"
      ]
     },
     "metadata": {
      "needs_background": "light"
     },
     "output_type": "display_data"
    }
   ],
   "source": [
    "# plot the losses \n",
    "plt.figure(figsize=(10, 5))\n",
    "plt.plot(causal_cf_metrics[\"train_loss\"], label=\"Train\")\n",
    "plt.plot(causal_cf_metrics[\"test_loss\"], label=\"Test\")\n",
    "plt.title(\"Losses\")\n",
    "plt.legend()\n",
    "plt.show()\n"
   ]
  },
  {
   "cell_type": "code",
   "execution_count": 54,
   "metadata": {},
   "outputs": [
    {
     "data": {
      "image/png": "[encoded data removed]",
      "text/plain": [
       "<Figure size 1440x360 with 2 Axes>"
      ]
     },
     "metadata": {
      "needs_background": "light"
     },
     "output_type": "display_data"
    },
    {
     "data": {
      "image/png": "[encoded data removed]",
      "text/plain": [
       "<Figure size 720x360 with 1 Axes>"
      ]
     },
     "metadata": {
      "needs_background": "light"
     },
     "output_type": "display_data"
    }
   ],
   "source": [
    "# plot the errors\n",
    "n_targets = len(targets)\n",
    "fig, axs = plt.subplots(1, n_targets, figsize=(20, 5))\n",
    "fig.suptitle(\"Errors\")\n",
    "for i in range(n_targets):\n",
    "    axs[i].hist(causal_cf_metrics[\"train_error\"][:,i], label=\"Train\", bins=100)\n",
    "    axs[i].hist(causal_cf_metrics[\"test_error\"][:,i], label=\"Test\", bins=100)\n",
    "    axs[i].set_title(targets[i])\n",
    "plt.show()\n",
    "\n",
    "plt.figure(figsize=(10, 5))\n",
    "plt.bar(targets, causal_cf_metrics[\"test_accuracy\"])\n",
    "plt.title(\"Test Accuracy\")\n",
    "# add the values to the bars\n",
    "for i, v in enumerate(causal_cf_metrics[\"test_accuracy\"]):\n",
    "    plt.text(i, v, str(round(v.item(), 2)), color='blue', fontweight='bold')\n",
    "plt.show()\n",
    "\n"
   ]
  },
  {
   "cell_type": "code",
   "execution_count": 60,
   "metadata": {},
   "outputs": [
    {
     "name": "stdout",
     "output_type": "stream",
     "text": [
      "mkdir: cannot create directory ‘cf_models’: File exists\n"
     ]
    }
   ],
   "source": [
    "!mkdir cf_models\n",
    "\n",
    "# save everything\n",
    "torch.save(causal_cf_model, \"cf_models/causal_cf_model.pt\")\n",
    "torch.save(causal_cf_metrics, \"cf_models/causal_cf_metrics.pt\")\n",
    "\n",
    "torch.save(suic_causal_model, \"cf_models/suic_causal_model.pt\")\n",
    "torch.save(suic_causal_metrics, \"cf_models/suic_causal_metrics.pt\")\n",
    "\n",
    "torch.save(anx_causal_model, \"cf_models/anx_causal_model.pt\")\n",
    "torch.save(anx_causal_metrics, \"cf_models/anx_causal_metrics.pt\")\n",
    "\n",
    "# save the non causal models also\n",
    "torch.save(cf_model, \"cf_models/cf_model.pt\")\n",
    "torch.save(cf_metrics, \"cf_models/cf_metrics.pt\")\n",
    "\n",
    "torch.save(suic_model, \"cf_models/suic_model.pt\")\n",
    "torch.save(suic_metrics, \"cf_models/suic_metrics.pt\")\n",
    "\n",
    "torch.save(anx_model, \"cf_models/anx_model.pt\")\n",
    "torch.save(anx_metrics, \"cf_models/anx_metrics.pt\")\n",
    "\n",
    "# save the dataframes\n",
    "df_suic.to_csv(\"cf_models/df_suic.csv\", index=False)\n",
    "df_suic_with_errors.to_csv(\"cf_models/df_suic_with_errors.csv\", index=False)\n",
    "\n",
    "df_suic_notears_with_errors.to_csv(\"cf_models/df_suic_notears_with_errors.csv\", index=False)\n",
    "df_suic_notears.to_csv(\"cf_models/df_suic_notears.csv\", index=False)"
   ]
  },
  {
   "attachments": {},
   "cell_type": "markdown",
   "metadata": {},
   "source": [
    "# Couterfacting"
   ]
  },
  {
   "cell_type": "code",
   "execution_count": 90,
   "metadata": {},
   "outputs": [
    {
     "name": "stdout",
     "output_type": "stream",
     "text": [
      "Suic_familia: [0.0, 1.0]\n",
      "Drog_familia: [0.0, 1.0]\n",
      "Capaz de tomar decisões importantes: [-1.0, 1.0, 2.0, 3.0, 4.0, 5.0]\n",
      "Estudante: [-1.0, 0.0, 0.5, 1.0]\n",
      "Hipocondriase: [-1.0, 0.0, 1.0, 2.0, 3.0, 4.0]\n",
      "Sentimentos_culpa: [-1.0, 0.0, 1.0, 2.0, 3.0, 4.0]\n",
      "Trabalho e interesses: [-1.0, 0.0, 1.0, 2.0, 3.0, 4.0]\n",
      "Energia: [-1.0, 0.0, 1.0, 2.0]\n",
      "Lentidao pensamento e fala: [-1.0, 0.0, 1.0, 2.0, 3.0]\n",
      "Perda de insights: [-1.0, 0.0, 1.0, 2.0]\n",
      "Suicidio: [-1.0, 0.0, 1.0, 2.0, 3.0, 4.0]\n",
      "Ansiedade: [-1.0, 0.0, 1.0, 2.0, 3.0, 4.0]\n"
     ]
    }
   ],
   "source": [
    "# Load the dataset\n",
    "targets = [\"Suicidio\", \"Ansiedade\"]\n",
    "df = pd.read_csv(\"cf_models/df_suic_notears_with_errors.csv\")\n",
    "# print available columns\n",
    "# print possible values for each column\n",
    "for col in df.columns:\n",
    "    if \"error\" not in col:\n",
    "        print(f\"{col}: {sorted(df[col].unique())}\")\n",
    "\n",
    "# load models\n",
    "counterfact = torch.load(\"cf_models/causal_cf_model.pt\")\n",
    "counterfact = counterfact.eval()"
   ]
  },
  {
   "cell_type": "code",
   "execution_count": 96,
   "metadata": {},
   "outputs": [
    {
     "name": "stdout",
     "output_type": "stream",
     "text": [
      "Counterfact individuals to remove Suic_familia\n"
     ]
    },
    {
     "name": "stderr",
     "output_type": "stream",
     "text": [
      "<ipython-input-96-12b76c80113b>:21: SettingWithCopyWarning: \n",
      "A value is trying to be set on a copy of a slice from a DataFrame.\n",
      "Try using .loc[row_indexer,col_indexer] = value instead\n",
      "\n",
      "See the caveats in the documentation: https://pandas.pydata.org/pandas-docs/stable/user_guide/indexing.html#returning-a-view-versus-a-copy\n",
      "  df_test[\"Ansiedade_cf\"] = new_cf[:, 0]\n",
      "<ipython-input-96-12b76c80113b>:22: SettingWithCopyWarning: \n",
      "A value is trying to be set on a copy of a slice from a DataFrame.\n",
      "Try using .loc[row_indexer,col_indexer] = value instead\n",
      "\n",
      "See the caveats in the documentation: https://pandas.pydata.org/pandas-docs/stable/user_guide/indexing.html#returning-a-view-versus-a-copy\n",
      "  df_test[\"Suicidio_cf\"] = new_cf[:, 1]\n"
     ]
    },
    {
     "data": {
      "text/html": [
       "<div>\n",
       "<style scoped>\n",
       "    .dataframe tbody tr th:only-of-type {\n",
       "        vertical-align: middle;\n",
       "    }\n",
       "\n",
       "    .dataframe tbody tr th {\n",
       "        vertical-align: top;\n",
       "    }\n",
       "\n",
       "    .dataframe thead th {\n",
       "        text-align: right;\n",
       "    }\n",
       "</style>\n",
       "<table border=\"1\" class=\"dataframe\">\n",
       "  <thead>\n",
       "    <tr style=\"text-align: right;\">\n",
       "      <th></th>\n",
       "      <th>Ansiedade</th>\n",
       "      <th>Ansiedade_cf</th>\n",
       "      <th>Suicidio</th>\n",
       "      <th>Suicidio_cf</th>\n",
       "    </tr>\n",
       "  </thead>\n",
       "  <tbody>\n",
       "    <tr>\n",
       "      <th>188</th>\n",
       "      <td>2.0</td>\n",
       "      <td>2.0</td>\n",
       "      <td>4.0</td>\n",
       "      <td>2.0</td>\n",
       "    </tr>\n",
       "    <tr>\n",
       "      <th>689</th>\n",
       "      <td>3.0</td>\n",
       "      <td>3.0</td>\n",
       "      <td>4.0</td>\n",
       "      <td>2.0</td>\n",
       "    </tr>\n",
       "    <tr>\n",
       "      <th>948</th>\n",
       "      <td>2.0</td>\n",
       "      <td>2.0</td>\n",
       "      <td>4.0</td>\n",
       "      <td>3.0</td>\n",
       "    </tr>\n",
       "    <tr>\n",
       "      <th>1909</th>\n",
       "      <td>3.0</td>\n",
       "      <td>3.0</td>\n",
       "      <td>4.0</td>\n",
       "      <td>2.0</td>\n",
       "    </tr>\n",
       "    <tr>\n",
       "      <th>2295</th>\n",
       "      <td>3.0</td>\n",
       "      <td>3.0</td>\n",
       "      <td>4.0</td>\n",
       "      <td>2.0</td>\n",
       "    </tr>\n",
       "    <tr>\n",
       "      <th>2552</th>\n",
       "      <td>2.0</td>\n",
       "      <td>3.0</td>\n",
       "      <td>4.0</td>\n",
       "      <td>2.0</td>\n",
       "    </tr>\n",
       "    <tr>\n",
       "      <th>2868</th>\n",
       "      <td>3.0</td>\n",
       "      <td>2.0</td>\n",
       "      <td>4.0</td>\n",
       "      <td>1.0</td>\n",
       "    </tr>\n",
       "    <tr>\n",
       "      <th>3600</th>\n",
       "      <td>4.0</td>\n",
       "      <td>2.0</td>\n",
       "      <td>4.0</td>\n",
       "      <td>2.0</td>\n",
       "    </tr>\n",
       "  </tbody>\n",
       "</table>\n",
       "</div>"
      ],
      "text/plain": [
       "      Ansiedade  Ansiedade_cf  Suicidio  Suicidio_cf\n",
       "188         2.0           2.0       4.0          2.0\n",
       "689         3.0           3.0       4.0          2.0\n",
       "948         2.0           2.0       4.0          3.0\n",
       "1909        3.0           3.0       4.0          2.0\n",
       "2295        3.0           3.0       4.0          2.0\n",
       "2552        2.0           3.0       4.0          2.0\n",
       "2868        3.0           2.0       4.0          1.0\n",
       "3600        4.0           2.0       4.0          2.0"
      ]
     },
     "execution_count": 96,
     "metadata": {},
     "output_type": "execute_result"
    }
   ],
   "source": [
    "cf_coll = 'Sentimentos_culpa'\n",
    "\n",
    "df_test = df[(df[\"Suicidio\"] == 4) & (df[cf_coll] > 2)]\n",
    "cf_data = CausalDataset(df_test.values, [df_test.columns.get_loc(c) for c in targets])\n",
    "\n",
    "cf_idx = df_test.columns.get_loc(cf_coll)\n",
    "\n",
    "# predict the counterfactuals\n",
    "with torch.no_grad():\n",
    "    new_cf = []\n",
    "    for data, y_true in cf_data:\n",
    "        data = data.unsqueeze(0)\n",
    "        i = counterfact.individuality(data)\n",
    "        data[0, cf_idx] = 0\n",
    "        cf = counterfact.counterfactual(data, i)\n",
    "        cf = cf.squeeze(0).round().numpy().tolist()\n",
    "        new_cf.append(cf)\n",
    "\n",
    "    new_cf = np.array(new_cf)\n",
    "\n",
    "df_test[\"Ansiedade_cf\"] = new_cf[:, 0]\n",
    "df_test[\"Suicidio_cf\"] = new_cf[:, 1]\n",
    "\n",
    "print(\"Counterfact individuals to remove Suic_familia\")\n",
    "df_test[['Ansiedade', 'Ansiedade_cf', 'Suicidio', 'Suicidio_cf']]"
   ]
  },
  {
   "cell_type": "code",
   "execution_count": 102,
   "metadata": {},
   "outputs": [
    {
     "name": "stdout",
     "output_type": "stream",
     "text": [
      "Counterfactuals for individual 1\n",
      "Individuality: -0.007154354119475348, -1.30420118456217\n",
      "Counterfactual 1: [2.0, 2.0]\n",
      "Counterfactual 2: [1.0, 2.0]\n",
      "\n"
     ]
    }
   ],
   "source": [
    "# Select two random individuals\n",
    "dataset = CausalDataset(df.values, [df.columns.get_loc(c) for c in targets])\n",
    "idx = np.random.choice(df.index, 2, replace=False)\n",
    "\n",
    "data1, y1 = dataset[idx[0]]\n",
    "data2, y2 = dataset[idx[1]]\n",
    "\n",
    "# predict the counterfactuals for crossed individuals\n",
    "with torch.no_grad():\n",
    "    i1 = counterfact.individuality(data1.unsqueeze(0))\n",
    "    i2 = counterfact.individuality(data2.unsqueeze(0))\n",
    "\n",
    "    cf11 = counterfact.counterfactual(data1.unsqueeze(0), i1)\n",
    "    cf12 = counterfact.counterfactual(data1.unsqueeze(0), i2)\n",
    "\n",
    "    print(\"Counterfactuals for individual 1\")\n",
    "    print(f\"Individuality: {i1.item()}, {i2.item()}\")\n",
    "    print(f\"Counterfactual 1: {cf11.squeeze(0).round().numpy().tolist()}\")\n",
    "    print(f\"Counterfactual 2: {cf12.squeeze(0).round().numpy().tolist()}\")\n",
    "    print()\n"
   ]
  },
  {
   "cell_type": "code",
   "execution_count": 105,
   "metadata": {},
   "outputs": [
    {
     "data": {
      "text/html": [
       "<div>\n",
       "<style scoped>\n",
       "    .dataframe tbody tr th:only-of-type {\n",
       "        vertical-align: middle;\n",
       "    }\n",
       "\n",
       "    .dataframe tbody tr th {\n",
       "        vertical-align: top;\n",
       "    }\n",
       "\n",
       "    .dataframe thead th {\n",
       "        text-align: right;\n",
       "    }\n",
       "</style>\n",
       "<table border=\"1\" class=\"dataframe\">\n",
       "  <thead>\n",
       "    <tr style=\"text-align: right;\">\n",
       "      <th></th>\n",
       "      <th>Suic_familia</th>\n",
       "      <th>Drog_familia</th>\n",
       "      <th>Capaz de tomar decisões importantes</th>\n",
       "      <th>Estudante</th>\n",
       "      <th>Hipocondriase</th>\n",
       "      <th>Sentimentos_culpa</th>\n",
       "      <th>Trabalho e interesses</th>\n",
       "      <th>Energia</th>\n",
       "      <th>Lentidao pensamento e fala</th>\n",
       "      <th>Perda de insights</th>\n",
       "      <th>Suicidio</th>\n",
       "      <th>Ansiedade</th>\n",
       "      <th>Suicidio_error</th>\n",
       "      <th>Ansiedade_error</th>\n",
       "    </tr>\n",
       "  </thead>\n",
       "  <tbody>\n",
       "    <tr>\n",
       "      <th>3398</th>\n",
       "      <td>0.0</td>\n",
       "      <td>0.0</td>\n",
       "      <td>2.0</td>\n",
       "      <td>0.0</td>\n",
       "      <td>0.0</td>\n",
       "      <td>1.0</td>\n",
       "      <td>3.0</td>\n",
       "      <td>0.0</td>\n",
       "      <td>0.0</td>\n",
       "      <td>0.0</td>\n",
       "      <td>2.0</td>\n",
       "      <td>3.0</td>\n",
       "      <td>0.624593</td>\n",
       "      <td>0.662226</td>\n",
       "    </tr>\n",
       "    <tr>\n",
       "      <th>297</th>\n",
       "      <td>0.0</td>\n",
       "      <td>0.0</td>\n",
       "      <td>2.0</td>\n",
       "      <td>0.0</td>\n",
       "      <td>0.0</td>\n",
       "      <td>2.0</td>\n",
       "      <td>2.0</td>\n",
       "      <td>1.0</td>\n",
       "      <td>1.0</td>\n",
       "      <td>0.0</td>\n",
       "      <td>1.0</td>\n",
       "      <td>2.0</td>\n",
       "      <td>0.332775</td>\n",
       "      <td>0.039236</td>\n",
       "    </tr>\n",
       "  </tbody>\n",
       "</table>\n",
       "</div>"
      ],
      "text/plain": [
       "      Suic_familia  Drog_familia  Capaz de tomar decisões importantes  \\\n",
       "3398           0.0           0.0                                  2.0   \n",
       "297            0.0           0.0                                  2.0   \n",
       "\n",
       "      Estudante  Hipocondriase  Sentimentos_culpa  Trabalho e interesses  \\\n",
       "3398        0.0            0.0                1.0                    3.0   \n",
       "297         0.0            0.0                2.0                    2.0   \n",
       "\n",
       "      Energia  Lentidao pensamento e fala  Perda de insights  Suicidio  \\\n",
       "3398      0.0                         0.0                0.0       2.0   \n",
       "297       1.0                         1.0                0.0       1.0   \n",
       "\n",
       "      Ansiedade  Suicidio_error  Ansiedade_error  \n",
       "3398        3.0        0.624593         0.662226  \n",
       "297         2.0        0.332775         0.039236  "
      ]
     },
     "execution_count": 105,
     "metadata": {},
     "output_type": "execute_result"
    }
   ],
   "source": [
    "# Print df at idxs\n",
    "df.loc[idx]"
   ]
  },
  {
   "cell_type": "code",
   "execution_count": 106,
   "metadata": {},
   "outputs": [
    {
     "data": {
      "text/plain": [
       "array([3398,  297])"
      ]
     },
     "execution_count": 106,
     "metadata": {},
     "output_type": "execute_result"
    }
   ],
   "source": [
    "idx"
   ]
  },
  {
   "cell_type": "code",
   "execution_count": null,
   "metadata": {},
   "outputs": [],
   "source": []
  }
 ],
 "metadata": {
  "kernelspec": {
   "display_name": "cml",
   "language": "python",
   "name": "python3"
  },
  "language_info": {
   "codemirror_mode": {
    "name": "ipython",
    "version": 3
   },
   "file_extension": ".py",
   "mimetype": "text/x-python",
   "name": "python",
   "nbconvert_exporter": "python",
   "pygments_lexer": "ipython3",
   "version": "3.8.13"
  },
  "vscode": {
   "interpreter": {
    "hash": "71f78216db5cb2f09350fda35ad9d9668a66a927586f044b9adeddeb17c1df4d"
   }
  }
 },
 "nbformat": 4,
 "nbformat_minor": 2
}
