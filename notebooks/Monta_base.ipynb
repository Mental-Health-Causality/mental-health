{
  "cells": [
    {
      "cell_type": "code",
      "execution_count": 1,
      "metadata": {
        "id": "uEiuIX3_7stQ"
      },
      "outputs": [],
      "source": [
        "import sys\n",
        "import os\n",
        "import pandas as pd\n",
        "import numpy as np"
      ]
    },
    {
      "cell_type": "code",
      "execution_count": 2,
      "metadata": {
        "id": "N-UWO7k8tk1d"
      },
      "outputs": [],
      "source": [
        "df = pd.read_csv(os.path.join('aggregated.csv'), sep=',', skiprows=[1])\n",
        "#df = pd.read_csv(os.path.join('/content/drive/MyDrive/UFMG/Pesquisa/aggregated.csv'), sep=',', skiprows=[1])"
      ]
    },
    {
      "cell_type": "code",
      "execution_count": 3,
      "metadata": {
        "id": "l6xN-KG_YA6K"
      },
      "outputs": [],
      "source": [
        "df['sexo'] = None\n",
        "df['sexo'] = np.where((df['gender||F']==1),'F',df['sexo'])\n",
        "df['sexo'] = np.where(df['gender||M']==1,'M',df['sexo'])"
      ]
    },
    {
      "cell_type": "code",
      "execution_count": 4,
      "metadata": {
        "id": "J5S8mDaZSrCp"
      },
      "outputs": [],
      "source": [
        "df['idade'] = (df['interview_age']/12).round(0)"
      ]
    },
    {
      "cell_type": "code",
      "execution_count": 5,
      "metadata": {
        "colab": {
          "base_uri": "https://localhost:8080/"
        },
        "id": "WmynRZ8aSrCp",
        "outputId": "a22b70e2-3e9c-4665-f323-88d760e5b5e1"
      },
      "outputs": [
        {
          "output_type": "execute_result",
          "data": {
            "text/plain": [
              "array([40., 20., 30., 60., 50., nan, 70.])"
            ]
          },
          "metadata": {},
          "execution_count": 5
        }
      ],
      "source": [
        "df['idade']=np.where((df['idade'] >15)&(df['idade'] <=20),20,df['idade'])\n",
        "df['idade']=np.where((df['idade'] >20)&(df['idade'] <=30),20,df['idade'])\n",
        "df['idade']=np.where((df['idade'] >30)&(df['idade'] <=40),30,df['idade'])\n",
        "df['idade']=np.where((df['idade'] >40)&(df['idade'] <=50),40,df['idade'])\n",
        "df['idade']=np.where((df['idade'] >50)&(df['idade'] <=60),50,df['idade'])\n",
        "df['idade']=np.where((df['idade'] >60)&(df['idade'] <=70),60,df['idade'])\n",
        "df['idade']=np.where((df['idade'] >70)&(df['idade'] <=80),70,df['idade'])\n",
        "df['idade'].unique()"
      ]
    },
    {
      "cell_type": "code",
      "execution_count": 6,
      "metadata": {
        "id": "gAY3lPy9d8Nz"
      },
      "outputs": [],
      "source": [
        "#1= nunca casado; 2= viver com alguém; 3= casado; 4= separado; 5=divorciado; 6=viúvo; 7= engajado; 8= viveu com, mas agora solteiro; 9= outros\n",
        "df['Estado_civil'] = None\n",
        "df['Estado_civil'] = np.where((df['dm01_enroll__marital||1.0']==1),'1',df['Estado_civil'])\n",
        "df['Estado_civil'] = np.where((df['dm01_enroll__marital||2.0']==1),'2',df['Estado_civil'])\n",
        "df['Estado_civil'] = np.where((df['dm01_enroll__marital||3.0']==1),'3',df['Estado_civil'])\n",
        "df['Estado_civil'] = np.where((df['dm01_enroll__marital||4.0']==1),'4',df['Estado_civil'])\n",
        "df['Estado_civil'] = np.where((df['dm01_enroll__marital||5.0']==1),'5',df['Estado_civil'])\n",
        "df['Estado_civil'] = np.where((df['dm01_enroll__marital||6.0']==1),'6',df['Estado_civil'])"
      ]
    },
    {
      "cell_type": "code",
      "execution_count": 7,
      "metadata": {
        "id": "pJQq900gfTBZ"
      },
      "outputs": [],
      "source": [
        "#1=Desempregados que não procuram emprego; 2=Desempregados em busca de emprego; 3=Tempo integral empregado para pagamento; 4=Tempo parcial empregado para pagamento; 5=Trabalhador autônomo por remuneração; 6=Aposentado não trabalhando; \n",
        "df['Status_empl'] = None\n",
        "df['Status_empl'] = np.where((df['dm01_enroll__empl||1.0']==1),'1',df['Status_empl'])\n",
        "df['Status_empl'] = np.where((df['dm01_enroll__empl||2.0']==1),'2',df['Status_empl'])\n",
        "df['Status_empl'] = np.where((df['dm01_enroll__empl||3.0']==1),'3',df['Status_empl'])\n",
        "df['Status_empl'] = np.where((df['dm01_enroll__empl||4.0']==1),'4',df['Status_empl'])\n",
        "df['Status_empl'] = np.where((df['dm01_enroll__empl||5.0']==1),'5',df['Status_empl'])\n",
        "df['Status_empl'] = np.where((df['dm01_enroll__empl||6.0']==1),'6',df['Status_empl'])"
      ]
    },
    {
      "cell_type": "code",
      "execution_count": 8,
      "metadata": {
        "id": "7kr_o-VlgFt6"
      },
      "outputs": [],
      "source": [
        "#Em licença médica ou psiquiátrica\n",
        "df['Licenca'] = None\n",
        "df['Licenca'] = np.where((df['dm01_enroll__leave||0.0']==1),'0',df['Licenca'])\n",
        "df['Licenca'] = np.where((df['dm01_enroll__leave||1.0']==1),'1',df['Licenca'])"
      ]
    },
    {
      "cell_type": "code",
      "execution_count": 9,
      "metadata": {
        "id": "Statza99gWRQ"
      },
      "outputs": [],
      "source": [
        "#1=Casa isolada; 2=Rowhouse ou townhouse; 3=Casa móvel; 4=Apartamento ou condomínio; 5=Quarto de casa ou hotel; 6=Habitação de aposentado ou idoso; 7=Unidade de saúde ou asilo; 8=Sem-teto\n",
        "df['Tipo_Resid'] = None\n",
        "df['Tipo_Resid'] = np.where((df['dm01_enroll__resid||1.0']==1),'1',df['Tipo_Resid'])\n",
        "df['Tipo_Resid'] = np.where((df['dm01_enroll__resid||2.0']==1),'2',df['Tipo_Resid'])\n",
        "df['Tipo_Resid'] = np.where((df['dm01_enroll__resid||3.0']==1),'3',df['Tipo_Resid'])\n",
        "df['Tipo_Resid'] = np.where((df['dm01_enroll__resid||4.0']==1),'4',df['Tipo_Resid'])\n",
        "df['Tipo_Resid'] = np.where((df['dm01_enroll__resid||5.0']==1),'5',df['Tipo_Resid'])\n",
        "df['Tipo_Resid'] = np.where((df['dm01_enroll__resid||6.0']==1),'6',df['Tipo_Resid'])\n",
        "df['Tipo_Resid'] = np.where((df['dm01_enroll__resid||7.0']==1),'7',df['Tipo_Resid'])\n",
        "df['Tipo_Resid'] = np.where((df['dm01_enroll__resid||8.0']==1),'8',df['Tipo_Resid'])"
      ]
    },
    {
      "cell_type": "code",
      "execution_count": 10,
      "metadata": {
        "id": "blxb213ThBLd"
      },
      "outputs": [],
      "source": [
        "#\t1=Possuir sem hipoteca; 2=Possuir com hipoteca; 3=Aluguel\n",
        "df['Residencia'] = None\n",
        "df['Residencia'] = np.where((df['dm01_enroll__rtown||1.0']==1),'1',df['Residencia'])\n",
        "df['Residencia'] = np.where((df['dm01_enroll__rtown||2.0']==1),'2',df['Residencia'])\n",
        "df['Residencia'] = np.where((df['dm01_enroll__rtown||3.0']==1),'3',df['Residencia'])"
      ]
    },
    {
      "cell_type": "code",
      "execution_count": 11,
      "metadata": {
        "id": "eDncXK5wmi7c"
      },
      "outputs": [],
      "source": [
        "#\t0=Nenhum verificado; 1=Abuso; 2=Dependente\n",
        "df['Alcoolatra'] = 0\n",
        "df['Alcoolatra'] = np.where((df['phx01__alcoh||1.0']==1),'1',df['Alcoolatra'])\n",
        "df['Alcoolatra'] = np.where((df['phx01__alcoh||2.0']==2),'2',df['Alcoolatra'])"
      ]
    },
    {
      "cell_type": "code",
      "execution_count": 12,
      "metadata": {
        "id": "aMCSKcLknVGm"
      },
      "outputs": [],
      "source": [
        "#\t0=Nenhum verificado; 1=Abuso; 2=Dependente\n",
        "df['Droga'] = 0\n",
        "df['Droga'] = np.where((df['phx01__amphet||1.0']==1),'1',df['Droga'])\n",
        "df['Droga'] = np.where((df['phx01__amphet||2.0']==2),'2',df['Droga'])\n",
        "df['Droga'] = np.where((df['phx01__cannibis||1.0']==1),'1',df['Droga'])\n",
        "df['Droga'] = np.where((df['phx01__cannibis||2.0']==2),'2',df['Droga'])\n",
        "df['Droga'] = np.where((df['phx01__opioid||1.0']==1),'1',df['Droga'])\n",
        "df['Droga'] = np.where((df['phx01__opioid||2.0']==2),'2',df['Droga'])\n",
        "df['Droga'] = np.where((df['phx01__ax_cocaine||1.0']==1),'1',df['Droga'])\n",
        "df['Droga'] = np.where((df['phx01__ax_cocaine||2.0']==2),'2',df['Droga'])"
      ]
    },
    {
      "cell_type": "code",
      "execution_count": 13,
      "metadata": {
        "colab": {
          "base_uri": "https://localhost:8080/"
        },
        "id": "JMFlsLzJSrCr",
        "outputId": "40a3f9d3-2643-4000-bfb1-73a706e2362d"
      },
      "outputs": [
        {
          "output_type": "execute_result",
          "data": {
            "text/plain": [
              "0.0    3929\n",
              "1.0      23\n",
              "Name: phx01__ax_cocaine||2.0, dtype: int64"
            ]
          },
          "metadata": {},
          "execution_count": 13
        }
      ],
      "source": [
        "df['phx01__ax_cocaine||2.0'].value_counts()"
      ]
    },
    {
      "cell_type": "code",
      "execution_count": 14,
      "metadata": {
        "id": "7I45gnevorbv"
      },
      "outputs": [],
      "source": [
        "#\tSuicidio família\n",
        "df['Suic_familia'] = 0\n",
        "df['Suic_familia'] = np.where((df['phx01__suic_phx']==1),'1',df['Suic_familia'])\n",
        "df['Suic_familia'] = np.where((df['phx01__suicpar']==1),'1',df['Suic_familia'])\n",
        "df['Suic_familia'] = np.where((df['phx01__suicsib']==1),'1',df['Suic_familia'])\n",
        "df['Suic_familia'] = np.where((df['phx01__suicchld']==1),'1',df['Suic_familia'])"
      ]
    },
    {
      "cell_type": "code",
      "execution_count": 15,
      "metadata": {
        "id": "Cat9ZeugqRwA"
      },
      "outputs": [],
      "source": [
        "#\tDepressao família\n",
        "df['Dep_familia'] = 0\n",
        "df['Dep_familia'] = np.where((df['phx01__dep']==1),'1',df['Dep_familia'])\n",
        "df['Dep_familia'] = np.where((df['phx01__deppar']==1),'1',df['Dep_familia'])\n",
        "df['Dep_familia'] = np.where((df['phx01__depsib']==1),'1',df['Dep_familia'])\n",
        "df['Dep_familia'] = np.where((df['phx01__depchld']==1),'1',df['Dep_familia'])"
      ]
    },
    {
      "cell_type": "code",
      "execution_count": 16,
      "metadata": {
        "id": "VpNcgQAtqjxM"
      },
      "outputs": [],
      "source": [
        "#\tBipolar família\n",
        "df['Bip_familia'] = 0\n",
        "df['Bip_familia'] = np.where((df['phx01__bip']==1),'1',df['Bip_familia'])\n",
        "df['Bip_familia'] = np.where((df['phx01__bippar']==1),'1',df['Bip_familia'])\n",
        "df['Bip_familia'] = np.where((df['phx01__bipsib']==1),'1',df['Bip_familia'])\n",
        "df['Bip_familia'] = np.where((df['phx01__bipchld']==1),'1',df['Bip_familia'])"
      ]
    },
    {
      "cell_type": "code",
      "execution_count": 17,
      "metadata": {
        "id": "TOW7QMytaYFE"
      },
      "outputs": [],
      "source": [
        "#\tAlcool família\n",
        "df['Alc_familia'] = 0\n",
        "df['Alc_familia'] = np.where((df['phx01__alcohol']==1),'1',df['Alc_familia'])\n",
        "df['Alc_familia'] = np.where((df['phx01__alcpar']==1),'1',df['Alc_familia'])\n",
        "df['Alc_familia'] = np.where((df['phx01__alcsib']==1),'1',df['Alc_familia'])\n",
        "df['Alc_familia'] = np.where((df['phx01__alcchld']==1),'1',df['Alc_familia'])"
      ]
    },
    {
      "cell_type": "code",
      "execution_count": 18,
      "metadata": {
        "id": "V_dPr7szaYNm"
      },
      "outputs": [],
      "source": [
        "#\tDrogas família\n",
        "df['Drog_familia'] = 0\n",
        "df['Drog_familia'] = np.where((df['phx01__drug_phx']==1),'1',df['Drog_familia'])\n",
        "df['Drog_familia'] = np.where((df['phx01__drgpar']==1),'1',df['Drog_familia'])\n",
        "df['Drog_familia'] = np.where((df['phx01__drgsib']==1),'1',df['Drog_familia'])\n",
        "df['Drog_familia'] = np.where((df['phx01__drgchld']==1),'1',df['Drog_familia'])"
      ]
    },
    {
      "cell_type": "code",
      "execution_count": 19,
      "metadata": {
        "colab": {
          "base_uri": "https://localhost:8080/"
        },
        "id": "AqPBpu2NSrCs",
        "outputId": "9ac210d2-593a-4ee6-ea9c-8e441edcb83e"
      },
      "outputs": [
        {
          "output_type": "execute_result",
          "data": {
            "text/plain": [
              "0.0    1861\n",
              "1.0     692\n",
              "2.0     478\n",
              "3.0     318\n",
              "4.0     194\n",
              "5.0     152\n",
              "6.0      95\n",
              "7.0      57\n",
              "8.0      54\n",
              "Name: TOC, dtype: int64"
            ]
          },
          "metadata": {},
          "execution_count": 19
        }
      ],
      "source": [
        "df['TOC'] = (df['pdsq01__obgrm']+df['pdsq01__obfgt']+df['pdsq01__obvlt']+df['pdsq01__obstp']+df['pdsq01__obint']+df['pdsq01__obcln']+df['pdsq01__obrpt']+df['pdsq01__obgrm'])\n",
        "df['TOC'].value_counts()"
      ]
    },
    {
      "cell_type": "code",
      "execution_count": 20,
      "metadata": {
        "id": "tyzIRvXbBdDV"
      },
      "outputs": [],
      "source": [
        "df.rename(columns={\"subjectkey\": \"Chave\",\n",
        "\"interview_age\": \"idade_meses\",\n",
        "\"crs01__heart\":\t\"coracao\", \n",
        "\"crs01__vsclr\":\t\"vascular\",\n",
        "\"crs01__hema\":\t\"hematopoetico\",\n",
        "\"crs01__eyes\":\t\"Olho_ore_nariz_garg_lar\",\n",
        "\"crs01__ugi\":\t\"GI_sup\",\n",
        "\"crs01__lgi\":\t\"Gi_inf\",\n",
        "\"crs01__renal\":\t\"Renal\",\n",
        "\"crs01__genur\":\t\"Genito_urinario\",\n",
        "\"crs01__mskl\":\t\"Musculoesqueletico\",\n",
        "\"crs01__neuro\":\t\"Neuro\",\n",
        "\"crs01__psych\":\t\"psiquiatrica\",\n",
        "\"crs01__respiratory\":\t\"Respiratorio\",\n",
        "\"crs01__liverd\":\t\"Figado\",\n",
        "\"crs01__endod\":\t\"Endocrino_metabolico\"\n",
        "}, inplace=True)"
      ]
    },
    {
      "cell_type": "code",
      "execution_count": 21,
      "metadata": {
        "id": "Uq974RphC2NI"
      },
      "outputs": [],
      "source": [
        "df.rename(columns={\"dm01_enroll__educat\":\t\"Anos educacao formal\",\n",
        "\"dm01_enroll__enjoy\":\t\"Capaz de desfrutar das coisas\",\n",
        "\"dm01_enroll__famim\":\t\"Impacto de sua familia e amigos\",\n",
        "\"dm01_enroll__frend\":\t\"Numero de amigos vivendo com paciente\",\n",
        "\"dm01_enroll__mkedc\":\t\"Capaz de tomar decisões importantes\",\n",
        "\"dm01_enroll__relat\":\t\"Numero de parentes vivendo com paciente\",\n",
        "\"dm01_enroll__spous\":\t\"Conjuge_companheiro vive com paciente\",\n",
        "\"dm01_enroll__student\":\t\"Estudante\",\n",
        "\"dm01_enroll__thous\":\t\"Numero total de pessoas em casa\",\n",
        "\"dm01_w0__inc_curr\":\t\"Receber dinheiro do emprego\",\n",
        "\"dm01_w0__mempl\":\t\"Renda mensal\",\n",
        "\"dm01_w0__assist\":\t\"Recebe assistencia publica\"\n",
        "}, inplace=True)"
      ]
    },
    {
      "cell_type": "code",
      "execution_count": 22,
      "metadata": {
        "id": "F9aZWiElC6lQ"
      },
      "outputs": [],
      "source": [
        "df.rename(columns={\"hrsd01__hsoin\":\t\"Insonia\",\n",
        "\"hrsd01__hmnin\":\t\"Insonia media\",\n",
        "\"hrsd01__hemin\":\t\"Insonia tardia\",\n",
        "\"hrsd01__hmdsd\":\t\"Deprimido\",\n",
        "\"hrsd01__hpanx\":\t\"Ansiedade\",\n",
        "\"hrsd01__hinsg\":\t\"Perda de insights\",\n",
        "\"hrsd01__happt\":\t\"Apetite\",\n",
        "\"hrsd01__hwl\":\t  \"Perda de peso\",\n",
        "\"hrsd01__hsanx\":\t\"Ansiedade somática\",\n",
        "\"hrsd01__hhypc\":\t\"Hipocondriase\",\n",
        "\"hrsd01__hvwsf\":\t\"Sentimentos_culpa\",\n",
        "\"hrsd01__hsuic\":\t\"Suicidio\",\n",
        "\"hrsd01__hintr\":\t\"Trabalho e interesses\",\n",
        "\"hrsd01__hengy\":\t\"Energia\",\n",
        "\"hrsd01__hslow\":\t\"Lentidao pensamento e fala\",\n",
        "\"hrsd01__hagit\":\t\"Agitação\",\n",
        "\"hrsd01__hsex\":\t   \"Libido\",\n",
        "\"hrsd01__hdtot_r\": \"Pontuação total\"\n",
        "}, inplace=True)"
      ]
    },
    {
      "cell_type": "code",
      "execution_count": 23,
      "metadata": {
        "id": "guU6gaqOEdRp"
      },
      "outputs": [],
      "source": [
        "df.rename(columns={\"phx01__pd_ag\":\t\"Eixo I: Panico com agorafobia\",\n",
        "\"phx01__pd_noag\":\t\"Eixo I: Panico sem agorafobia\",\n",
        "\"phx01__specphob\":\t\"Eixo I: Fobia especifica\",\n",
        "\"phx01__soc_phob\":\t\"Eixo I: Fobia social\",\n",
        "\"phx01__ocd_phx\":\t\"Eixo I: Obsessivo-compulsivo\",\n",
        "\"phx01__psd\":\t\"Eixo I: Estresse pos-traumatico\",\n",
        "\"phx01__gad_phx\":\t\"Eixo I: Ansiedade generalizada\",\n",
        "\"phx01__pd_paran\":\t\"Eixo II: Personalidade paranoica\",\n",
        "\"phx01__pd_nos\":\t\"Eixo II: Transtorno de personalidade\"\n",
        "}, inplace=True)"
      ]
    },
    {
      "cell_type": "code",
      "execution_count": 24,
      "metadata": {
        "id": "39YUYr_Seg_W"
      },
      "outputs": [],
      "source": [
        "df = df[[\"Chave\", 'sexo', 'Estado_civil', 'Status_empl','Licenca','Tipo_Resid', 'Residencia', 'Alcoolatra', 'Droga', 'Suic_familia',\n",
        "'Dep_familia','Bip_familia','Alc_familia','Drog_familia', 'Chave', 'coracao', 'vascular', 'hematopoetico', 'Olho_ore_nariz_garg_lar',\n",
        "'GI_sup', 'Gi_inf', 'Renal', 'Genito_urinario', 'Musculoesqueletico', 'Neuro', 'psiquiatrica', 'Respiratorio', 'Figado', 'Endocrino_metabolico',\n",
        "'Anos educacao formal', 'Capaz de desfrutar das coisas', 'Impacto de sua familia e amigos', 'Numero de amigos vivendo com paciente',\n",
        "'Capaz de tomar decisões importantes', 'Numero de parentes vivendo com paciente', 'Conjuge_companheiro vive com paciente',\n",
        "'Estudante', 'Numero total de pessoas em casa', 'Receber dinheiro do emprego', 'Renda mensal', 'Recebe assistencia publica',\n",
        "'Insonia', 'Insonia media', 'Insonia tardia', 'Deprimido', 'Ansiedade', 'Perda de insights', 'Apetite', 'Perda de peso',\n",
        "'Ansiedade somática', 'Hipocondriase', 'Sentimentos_culpa', 'Suicidio', 'Trabalho e interesses', 'Energia', 'Lentidao pensamento e fala',\n",
        "'Agitação', 'Libido', 'Pontuação total', 'Eixo I: Panico com agorafobia', 'Eixo I: Panico sem agorafobia', 'Eixo I: Fobia especifica',\n",
        "'Eixo I: Fobia social', 'Eixo I: Obsessivo-compulsivo', 'Eixo I: Estresse pos-traumatico', 'Eixo I: Ansiedade generalizada',\n",
        "'Eixo II: Personalidade paranoica', 'Eixo II: Transtorno de personalidade','TOC','idade']]"
      ]
    },
    {
      "cell_type": "code",
      "execution_count": 25,
      "metadata": {
        "colab": {
          "base_uri": "https://localhost:8080/"
        },
        "id": "GrLRAm3zSrCt",
        "outputId": "8dcde4e4-0dd7-4ddf-9e68-56aed67cf49a"
      },
      "outputs": [
        {
          "output_type": "execute_result",
          "data": {
            "text/plain": [
              "0    3201\n",
              "1     424\n",
              "2     289\n",
              "3      37\n",
              "4       2\n",
              "Name: psiquiatrica, dtype: int64"
            ]
          },
          "metadata": {},
          "execution_count": 25
        }
      ],
      "source": [
        "#0=nenhum problema; 1=problema leve ou sem problemas atuais; 2= incapacidade/morbidade moderada; Incapacidade constante 3-grave; 4= extremamente grave\n",
        "df.psiquiatrica.value_counts()"
      ]
    },
    {
      "cell_type": "code",
      "execution_count": 26,
      "metadata": {
        "colab": {
          "base_uri": "https://localhost:8080/"
        },
        "id": "hh0-dnI2gkkM",
        "outputId": "d488e0fb-6608-4278-b250-2e4ee796e147"
      },
      "outputs": [
        {
          "output_type": "stream",
          "name": "stdout",
          "text": [
            "<class 'pandas.core.frame.DataFrame'>\n",
            "RangeIndex: 3953 entries, 0 to 3952\n",
            "Data columns (total 70 columns):\n",
            " #   Column                                   Non-Null Count  Dtype  \n",
            "---  ------                                   --------------  -----  \n",
            " 0   Chave                                    3953 non-null   object \n",
            " 1   sexo                                     3685 non-null   object \n",
            " 2   Estado_civil                             3947 non-null   object \n",
            " 3   Status_empl                              3166 non-null   object \n",
            " 4   Licenca                                  3942 non-null   object \n",
            " 5   Tipo_Resid                               3947 non-null   object \n",
            " 6   Residencia                               3392 non-null   object \n",
            " 7   Alcoolatra                               3953 non-null   object \n",
            " 8   Droga                                    3953 non-null   object \n",
            " 9   Suic_familia                             3953 non-null   object \n",
            " 10  Dep_familia                              3953 non-null   object \n",
            " 11  Bip_familia                              3953 non-null   object \n",
            " 12  Alc_familia                              3953 non-null   object \n",
            " 13  Drog_familia                             3953 non-null   object \n",
            " 14  Chave                                    3953 non-null   object \n",
            " 15  coracao                                  3953 non-null   int64  \n",
            " 16  vascular                                 3953 non-null   int64  \n",
            " 17  hematopoetico                            3953 non-null   int64  \n",
            " 18  Olho_ore_nariz_garg_lar                  3953 non-null   int64  \n",
            " 19  GI_sup                                   3953 non-null   int64  \n",
            " 20  Gi_inf                                   3953 non-null   int64  \n",
            " 21  Renal                                    3953 non-null   int64  \n",
            " 22  Genito_urinario                          3953 non-null   int64  \n",
            " 23  Musculoesqueletico                       3953 non-null   int64  \n",
            " 24  Neuro                                    3953 non-null   int64  \n",
            " 25  psiquiatrica                             3953 non-null   int64  \n",
            " 26  Respiratorio                             3953 non-null   int64  \n",
            " 27  Figado                                   3953 non-null   int64  \n",
            " 28  Endocrino_metabolico                     3953 non-null   int64  \n",
            " 29  Anos educacao formal                     3940 non-null   float64\n",
            " 30  Capaz de desfrutar das coisas            3935 non-null   float64\n",
            " 31  Impacto de sua familia e amigos          3933 non-null   float64\n",
            " 32  Numero de amigos vivendo com paciente    3945 non-null   float64\n",
            " 33  Capaz de tomar decisões importantes      3935 non-null   float64\n",
            " 34  Numero de parentes vivendo com paciente  3946 non-null   float64\n",
            " 35  Conjuge_companheiro vive com paciente    2857 non-null   float64\n",
            " 36  Estudante                                3947 non-null   float64\n",
            " 37  Numero total de pessoas em casa          3945 non-null   float64\n",
            " 38  Receber dinheiro do emprego              3535 non-null   float64\n",
            " 39  Renda mensal                             2031 non-null   float64\n",
            " 40  Recebe assistencia publica               3619 non-null   float64\n",
            " 41  Insonia                                  3951 non-null   float64\n",
            " 42  Insonia media                            3951 non-null   float64\n",
            " 43  Insonia tardia                           3951 non-null   float64\n",
            " 44  Deprimido                                3951 non-null   float64\n",
            " 45  Ansiedade                                3951 non-null   float64\n",
            " 46  Perda de insights                        3951 non-null   float64\n",
            " 47  Apetite                                  3945 non-null   float64\n",
            " 48  Perda de peso                            3944 non-null   float64\n",
            " 49  Ansiedade somática                       3951 non-null   float64\n",
            " 50  Hipocondriase                            3951 non-null   float64\n",
            " 51  Sentimentos_culpa                        3951 non-null   float64\n",
            " 52  Suicidio                                 3951 non-null   float64\n",
            " 53  Trabalho e interesses                    3951 non-null   float64\n",
            " 54  Energia                                  3951 non-null   float64\n",
            " 55  Lentidao pensamento e fala               3951 non-null   float64\n",
            " 56  Agitação                                 3951 non-null   float64\n",
            " 57  Libido                                   3951 non-null   float64\n",
            " 58  Pontuação total                          3951 non-null   float64\n",
            " 59  Eixo I: Panico com agorafobia            2758 non-null   float64\n",
            " 60  Eixo I: Panico sem agorafobia            2758 non-null   float64\n",
            " 61  Eixo I: Fobia especifica                 2758 non-null   float64\n",
            " 62  Eixo I: Fobia social                     2758 non-null   float64\n",
            " 63  Eixo I: Obsessivo-compulsivo             2758 non-null   float64\n",
            " 64  Eixo I: Estresse pos-traumatico          2758 non-null   float64\n",
            " 65  Eixo I: Ansiedade generalizada           2758 non-null   float64\n",
            " 66  Eixo II: Personalidade paranoica         2377 non-null   float64\n",
            " 67  Eixo II: Transtorno de personalidade     2377 non-null   float64\n",
            " 68  TOC                                      3901 non-null   float64\n",
            " 69  idade                                    3683 non-null   float64\n",
            "dtypes: float64(41), int64(14), object(15)\n",
            "memory usage: 2.1+ MB\n"
          ]
        }
      ],
      "source": [
        "df.info()"
      ]
    },
    {
      "cell_type": "code",
      "execution_count": 27,
      "metadata": {
        "id": "lQRZiLljhNHV"
      },
      "outputs": [],
      "source": [
        "df.to_csv('final.csv', sep=';', decimal=',', index=False)"
      ]
    },
    {
      "cell_type": "code",
      "execution_count": 28,
      "metadata": {
        "id": "RHVXnR_iwCE9",
        "colab": {
          "base_uri": "https://localhost:8080/"
        },
        "outputId": "96719397-c3ea-4e0b-c8d7-fb5b001b9ab0"
      },
      "outputs": [
        {
          "output_type": "execute_result",
          "data": {
            "text/plain": [
              "3.0    1826\n",
              "2.0    1441\n",
              "4.0     463\n",
              "1.0     206\n",
              "0.0      15\n",
              "Name: Deprimido, dtype: int64"
            ]
          },
          "metadata": {},
          "execution_count": 28
        }
      ],
      "source": [
        "#0=Ausente; 1= Duvidoso ou trivial; 2=Leve-Sente-se triste, sem esperança, indefeso, inútil não mais do que 2 dias; 3=Moderado; 4=Grave:\n",
        "df['Deprimido'].value_counts()"
      ]
    }
  ],
  "metadata": {
    "colab": {
      "collapsed_sections": [],
      "provenance": []
    },
    "kernelspec": {
      "display_name": "Python 3 (ipykernel)",
      "language": "python",
      "name": "python3"
    },
    "language_info": {
      "codemirror_mode": {
        "name": "ipython",
        "version": 3
      },
      "file_extension": ".py",
      "mimetype": "text/x-python",
      "name": "python",
      "nbconvert_exporter": "python",
      "pygments_lexer": "ipython3",
      "version": "3.10.4"
    }
  },
  "nbformat": 4,
  "nbformat_minor": 0
}