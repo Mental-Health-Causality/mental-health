{
  "nbformat": 4,
  "nbformat_minor": 0,
  "metadata": {
    "colab": {
      "provenance": []
    },
    "kernelspec": {
      "name": "python3",
      "display_name": "Python 3"
    },
    "language_info": {
      "name": "python"
    },
    "gpuClass": "standard"
  },
  "cells": [
    {
      "cell_type": "code",
      "source": [
        "!pip install captum\n",
        "!pip install pytorch-lightning"
      ],
      "metadata": {
        "colab": {
          "base_uri": "https://localhost:8080/"
        },
        "id": "8t2cddDAS-Zh",
        "outputId": "873d0f21-5fa1-4194-eea4-bc8b696cdf6b"
      },
      "execution_count": null,
      "outputs": [
        {
          "output_type": "stream",
          "name": "stdout",
          "text": [
            "Looking in indexes: https://pypi.org/simple, https://us-python.pkg.dev/colab-wheels/public/simple/\n",
            "Requirement already satisfied: captum in /usr/local/lib/python3.8/dist-packages (0.5.0)\n",
            "Requirement already satisfied: matplotlib in /usr/local/lib/python3.8/dist-packages (from captum) (3.2.2)\n",
            "Requirement already satisfied: numpy in /usr/local/lib/python3.8/dist-packages (from captum) (1.21.6)\n",
            "Requirement already satisfied: torch>=1.6 in /usr/local/lib/python3.8/dist-packages (from captum) (1.13.0+cu116)\n",
            "Requirement already satisfied: typing-extensions in /usr/local/lib/python3.8/dist-packages (from torch>=1.6->captum) (4.4.0)\n",
            "Requirement already satisfied: kiwisolver>=1.0.1 in /usr/local/lib/python3.8/dist-packages (from matplotlib->captum) (1.4.4)\n",
            "Requirement already satisfied: pyparsing!=2.0.4,!=2.1.2,!=2.1.6,>=2.0.1 in /usr/local/lib/python3.8/dist-packages (from matplotlib->captum) (3.0.9)\n",
            "Requirement already satisfied: python-dateutil>=2.1 in /usr/local/lib/python3.8/dist-packages (from matplotlib->captum) (2.8.2)\n",
            "Requirement already satisfied: cycler>=0.10 in /usr/local/lib/python3.8/dist-packages (from matplotlib->captum) (0.11.0)\n",
            "Requirement already satisfied: six>=1.5 in /usr/local/lib/python3.8/dist-packages (from python-dateutil>=2.1->matplotlib->captum) (1.15.0)\n",
            "Looking in indexes: https://pypi.org/simple, https://us-python.pkg.dev/colab-wheels/public/simple/\n",
            "Requirement already satisfied: pytorch-lightning in /usr/local/lib/python3.8/dist-packages (1.8.4.post0)\n",
            "Requirement already satisfied: typing-extensions>=4.0.0 in /usr/local/lib/python3.8/dist-packages (from pytorch-lightning) (4.4.0)\n",
            "Requirement already satisfied: tqdm>=4.57.0 in /usr/local/lib/python3.8/dist-packages (from pytorch-lightning) (4.64.1)\n",
            "Requirement already satisfied: lightning-utilities!=0.4.0,>=0.3.0 in /usr/local/lib/python3.8/dist-packages (from pytorch-lightning) (0.4.2)\n",
            "Requirement already satisfied: fsspec[http]>2021.06.0 in /usr/local/lib/python3.8/dist-packages (from pytorch-lightning) (2022.11.0)\n",
            "Requirement already satisfied: numpy>=1.17.2 in /usr/local/lib/python3.8/dist-packages (from pytorch-lightning) (1.21.6)\n",
            "Requirement already satisfied: PyYAML>=5.4 in /usr/local/lib/python3.8/dist-packages (from pytorch-lightning) (6.0)\n",
            "Requirement already satisfied: tensorboardX>=2.2 in /usr/local/lib/python3.8/dist-packages (from pytorch-lightning) (2.5.1)\n",
            "Requirement already satisfied: torchmetrics>=0.7.0 in /usr/local/lib/python3.8/dist-packages (from pytorch-lightning) (0.11.0)\n",
            "Requirement already satisfied: torch>=1.9.0 in /usr/local/lib/python3.8/dist-packages (from pytorch-lightning) (1.13.0+cu116)\n",
            "Requirement already satisfied: packaging>=17.0 in /usr/local/lib/python3.8/dist-packages (from pytorch-lightning) (21.3)\n",
            "Requirement already satisfied: requests in /usr/local/lib/python3.8/dist-packages (from fsspec[http]>2021.06.0->pytorch-lightning) (2.23.0)\n",
            "Requirement already satisfied: aiohttp!=4.0.0a0,!=4.0.0a1 in /usr/local/lib/python3.8/dist-packages (from fsspec[http]>2021.06.0->pytorch-lightning) (3.8.3)\n",
            "Requirement already satisfied: charset-normalizer<3.0,>=2.0 in /usr/local/lib/python3.8/dist-packages (from aiohttp!=4.0.0a0,!=4.0.0a1->fsspec[http]>2021.06.0->pytorch-lightning) (2.1.1)\n",
            "Requirement already satisfied: multidict<7.0,>=4.5 in /usr/local/lib/python3.8/dist-packages (from aiohttp!=4.0.0a0,!=4.0.0a1->fsspec[http]>2021.06.0->pytorch-lightning) (6.0.3)\n",
            "Requirement already satisfied: frozenlist>=1.1.1 in /usr/local/lib/python3.8/dist-packages (from aiohttp!=4.0.0a0,!=4.0.0a1->fsspec[http]>2021.06.0->pytorch-lightning) (1.3.3)\n",
            "Requirement already satisfied: yarl<2.0,>=1.0 in /usr/local/lib/python3.8/dist-packages (from aiohttp!=4.0.0a0,!=4.0.0a1->fsspec[http]>2021.06.0->pytorch-lightning) (1.8.2)\n",
            "Requirement already satisfied: aiosignal>=1.1.2 in /usr/local/lib/python3.8/dist-packages (from aiohttp!=4.0.0a0,!=4.0.0a1->fsspec[http]>2021.06.0->pytorch-lightning) (1.3.1)\n",
            "Requirement already satisfied: async-timeout<5.0,>=4.0.0a3 in /usr/local/lib/python3.8/dist-packages (from aiohttp!=4.0.0a0,!=4.0.0a1->fsspec[http]>2021.06.0->pytorch-lightning) (4.0.2)\n",
            "Requirement already satisfied: attrs>=17.3.0 in /usr/local/lib/python3.8/dist-packages (from aiohttp!=4.0.0a0,!=4.0.0a1->fsspec[http]>2021.06.0->pytorch-lightning) (22.1.0)\n",
            "Requirement already satisfied: pyparsing!=3.0.5,>=2.0.2 in /usr/local/lib/python3.8/dist-packages (from packaging>=17.0->pytorch-lightning) (3.0.9)\n",
            "Requirement already satisfied: protobuf<=3.20.1,>=3.8.0 in /usr/local/lib/python3.8/dist-packages (from tensorboardX>=2.2->pytorch-lightning) (3.19.6)\n",
            "Requirement already satisfied: idna>=2.0 in /usr/local/lib/python3.8/dist-packages (from yarl<2.0,>=1.0->aiohttp!=4.0.0a0,!=4.0.0a1->fsspec[http]>2021.06.0->pytorch-lightning) (2.10)\n",
            "Requirement already satisfied: urllib3!=1.25.0,!=1.25.1,<1.26,>=1.21.1 in /usr/local/lib/python3.8/dist-packages (from requests->fsspec[http]>2021.06.0->pytorch-lightning) (1.24.3)\n",
            "Requirement already satisfied: certifi>=2017.4.17 in /usr/local/lib/python3.8/dist-packages (from requests->fsspec[http]>2021.06.0->pytorch-lightning) (2022.9.24)\n",
            "Requirement already satisfied: chardet<4,>=3.0.2 in /usr/local/lib/python3.8/dist-packages (from requests->fsspec[http]>2021.06.0->pytorch-lightning) (3.0.4)\n"
          ]
        }
      ]
    },
    {
      "cell_type": "code",
      "source": [
        "import torch\n",
        "import pandas as pd\n",
        "import numpy as np\n",
        "\n",
        "# Import dataset utils\n",
        "from torch.utils.data import Dataset, DataLoader \n",
        "from sklearn.model_selection import train_test_split\n",
        "\n",
        "import importlib\n",
        "if importlib.util.find_spec('ipywidgets') is not None:\n",
        "    from tqdm.auto import tqdm\n",
        "else:\n",
        "    from tqdm import tqdm"
      ],
      "metadata": {
        "id": "P1oHfLwBTEDo"
      },
      "execution_count": null,
      "outputs": []
    },
    {
      "cell_type": "code",
      "source": [
        "dataframe = pd.read_csv('/content/final.csv', sep=';')\n",
        "dataframe.head()"
      ],
      "metadata": {
        "colab": {
          "base_uri": "https://localhost:8080/",
          "height": 352
        },
        "id": "Engty10UsN7e",
        "outputId": "37b916f1-43e2-464d-f91c-fab2f19f71f2"
      },
      "execution_count": null,
      "outputs": [
        {
          "output_type": "execute_result",
          "data": {
            "text/plain": [
              "  sexo  Estado_civil  Status_empl  Licenca  Tipo_Resid  Residencia  \\\n",
              "0    M           3.0          NaN      0.0         3.0         1.0   \n",
              "1    F           1.0          3.0      0.0         4.0         3.0   \n",
              "2    F           1.0          2.0      0.0         1.0         2.0   \n",
              "3    F           1.0          3.0      0.0         1.0         3.0   \n",
              "4    F           4.0          2.0      0.0         1.0         NaN   \n",
              "\n",
              "   Alcoolatra  Droga  Suic_familia  Dep_familia  ...  \\\n",
              "0           0      0             0            1  ...   \n",
              "1           0      0             0            1  ...   \n",
              "2           0      0             1            1  ...   \n",
              "3           0      0             0            1  ...   \n",
              "4           1      0             0            1  ...   \n",
              "\n",
              "   Eixo I: Panico sem agorafobia  Eixo I: Fobia especifica  \\\n",
              "0                            0.0                       0.0   \n",
              "1                            NaN                       NaN   \n",
              "2                            0.0                       0.0   \n",
              "3                            NaN                       NaN   \n",
              "4                            0.0                       0.0   \n",
              "\n",
              "   Eixo I: Fobia social Eixo I: Obsessivo-compulsivo  \\\n",
              "0                   0.0                          0.0   \n",
              "1                   NaN                          NaN   \n",
              "2                   0.0                          0.0   \n",
              "3                   NaN                          NaN   \n",
              "4                   0.0                          0.0   \n",
              "\n",
              "   Eixo I: Estresse pos-traumatico  Eixo I: Ansiedade generalizada  \\\n",
              "0                              0.0                             0.0   \n",
              "1                              NaN                             NaN   \n",
              "2                              0.0                             0.0   \n",
              "3                              NaN                             NaN   \n",
              "4                              0.0                             0.0   \n",
              "\n",
              "   Eixo II: Personalidade paranoica  Eixo II: Transtorno de personalidade  \\\n",
              "0                               0.0                                   0.0   \n",
              "1                               NaN                                   NaN   \n",
              "2                               0.0                                   0.0   \n",
              "3                               NaN                                   NaN   \n",
              "4                               0.0                                   0.0   \n",
              "\n",
              "   TOC  idade  \n",
              "0  3.0   40.0  \n",
              "1  0.0   20.0  \n",
              "2  0.0   20.0  \n",
              "3  6.0   30.0  \n",
              "4  0.0   40.0  \n",
              "\n",
              "[5 rows x 69 columns]"
            ],
            "text/html": [
              "\n",
              "  <div id=\"df-3a8502b7-65b0-47a3-8246-d7ba2270112c\">\n",
              "    <div class=\"colab-df-container\">\n",
              "      <div>\n",
              "<style scoped>\n",
              "    .dataframe tbody tr th:only-of-type {\n",
              "        vertical-align: middle;\n",
              "    }\n",
              "\n",
              "    .dataframe tbody tr th {\n",
              "        vertical-align: top;\n",
              "    }\n",
              "\n",
              "    .dataframe thead th {\n",
              "        text-align: right;\n",
              "    }\n",
              "</style>\n",
              "<table border=\"1\" class=\"dataframe\">\n",
              "  <thead>\n",
              "    <tr style=\"text-align: right;\">\n",
              "      <th></th>\n",
              "      <th>sexo</th>\n",
              "      <th>Estado_civil</th>\n",
              "      <th>Status_empl</th>\n",
              "      <th>Licenca</th>\n",
              "      <th>Tipo_Resid</th>\n",
              "      <th>Residencia</th>\n",
              "      <th>Alcoolatra</th>\n",
              "      <th>Droga</th>\n",
              "      <th>Suic_familia</th>\n",
              "      <th>Dep_familia</th>\n",
              "      <th>...</th>\n",
              "      <th>Eixo I: Panico sem agorafobia</th>\n",
              "      <th>Eixo I: Fobia especifica</th>\n",
              "      <th>Eixo I: Fobia social</th>\n",
              "      <th>Eixo I: Obsessivo-compulsivo</th>\n",
              "      <th>Eixo I: Estresse pos-traumatico</th>\n",
              "      <th>Eixo I: Ansiedade generalizada</th>\n",
              "      <th>Eixo II: Personalidade paranoica</th>\n",
              "      <th>Eixo II: Transtorno de personalidade</th>\n",
              "      <th>TOC</th>\n",
              "      <th>idade</th>\n",
              "    </tr>\n",
              "  </thead>\n",
              "  <tbody>\n",
              "    <tr>\n",
              "      <th>0</th>\n",
              "      <td>M</td>\n",
              "      <td>3.0</td>\n",
              "      <td>NaN</td>\n",
              "      <td>0.0</td>\n",
              "      <td>3.0</td>\n",
              "      <td>1.0</td>\n",
              "      <td>0</td>\n",
              "      <td>0</td>\n",
              "      <td>0</td>\n",
              "      <td>1</td>\n",
              "      <td>...</td>\n",
              "      <td>0.0</td>\n",
              "      <td>0.0</td>\n",
              "      <td>0.0</td>\n",
              "      <td>0.0</td>\n",
              "      <td>0.0</td>\n",
              "      <td>0.0</td>\n",
              "      <td>0.0</td>\n",
              "      <td>0.0</td>\n",
              "      <td>3.0</td>\n",
              "      <td>40.0</td>\n",
              "    </tr>\n",
              "    <tr>\n",
              "      <th>1</th>\n",
              "      <td>F</td>\n",
              "      <td>1.0</td>\n",
              "      <td>3.0</td>\n",
              "      <td>0.0</td>\n",
              "      <td>4.0</td>\n",
              "      <td>3.0</td>\n",
              "      <td>0</td>\n",
              "      <td>0</td>\n",
              "      <td>0</td>\n",
              "      <td>1</td>\n",
              "      <td>...</td>\n",
              "      <td>NaN</td>\n",
              "      <td>NaN</td>\n",
              "      <td>NaN</td>\n",
              "      <td>NaN</td>\n",
              "      <td>NaN</td>\n",
              "      <td>NaN</td>\n",
              "      <td>NaN</td>\n",
              "      <td>NaN</td>\n",
              "      <td>0.0</td>\n",
              "      <td>20.0</td>\n",
              "    </tr>\n",
              "    <tr>\n",
              "      <th>2</th>\n",
              "      <td>F</td>\n",
              "      <td>1.0</td>\n",
              "      <td>2.0</td>\n",
              "      <td>0.0</td>\n",
              "      <td>1.0</td>\n",
              "      <td>2.0</td>\n",
              "      <td>0</td>\n",
              "      <td>0</td>\n",
              "      <td>1</td>\n",
              "      <td>1</td>\n",
              "      <td>...</td>\n",
              "      <td>0.0</td>\n",
              "      <td>0.0</td>\n",
              "      <td>0.0</td>\n",
              "      <td>0.0</td>\n",
              "      <td>0.0</td>\n",
              "      <td>0.0</td>\n",
              "      <td>0.0</td>\n",
              "      <td>0.0</td>\n",
              "      <td>0.0</td>\n",
              "      <td>20.0</td>\n",
              "    </tr>\n",
              "    <tr>\n",
              "      <th>3</th>\n",
              "      <td>F</td>\n",
              "      <td>1.0</td>\n",
              "      <td>3.0</td>\n",
              "      <td>0.0</td>\n",
              "      <td>1.0</td>\n",
              "      <td>3.0</td>\n",
              "      <td>0</td>\n",
              "      <td>0</td>\n",
              "      <td>0</td>\n",
              "      <td>1</td>\n",
              "      <td>...</td>\n",
              "      <td>NaN</td>\n",
              "      <td>NaN</td>\n",
              "      <td>NaN</td>\n",
              "      <td>NaN</td>\n",
              "      <td>NaN</td>\n",
              "      <td>NaN</td>\n",
              "      <td>NaN</td>\n",
              "      <td>NaN</td>\n",
              "      <td>6.0</td>\n",
              "      <td>30.0</td>\n",
              "    </tr>\n",
              "    <tr>\n",
              "      <th>4</th>\n",
              "      <td>F</td>\n",
              "      <td>4.0</td>\n",
              "      <td>2.0</td>\n",
              "      <td>0.0</td>\n",
              "      <td>1.0</td>\n",
              "      <td>NaN</td>\n",
              "      <td>1</td>\n",
              "      <td>0</td>\n",
              "      <td>0</td>\n",
              "      <td>1</td>\n",
              "      <td>...</td>\n",
              "      <td>0.0</td>\n",
              "      <td>0.0</td>\n",
              "      <td>0.0</td>\n",
              "      <td>0.0</td>\n",
              "      <td>0.0</td>\n",
              "      <td>0.0</td>\n",
              "      <td>0.0</td>\n",
              "      <td>0.0</td>\n",
              "      <td>0.0</td>\n",
              "      <td>40.0</td>\n",
              "    </tr>\n",
              "  </tbody>\n",
              "</table>\n",
              "<p>5 rows × 69 columns</p>\n",
              "</div>\n",
              "      <button class=\"colab-df-convert\" onclick=\"convertToInteractive('df-3a8502b7-65b0-47a3-8246-d7ba2270112c')\"\n",
              "              title=\"Convert this dataframe to an interactive table.\"\n",
              "              style=\"display:none;\">\n",
              "        \n",
              "  <svg xmlns=\"http://www.w3.org/2000/svg\" height=\"24px\"viewBox=\"0 0 24 24\"\n",
              "       width=\"24px\">\n",
              "    <path d=\"M0 0h24v24H0V0z\" fill=\"none\"/>\n",
              "    <path d=\"M18.56 5.44l.94 2.06.94-2.06 2.06-.94-2.06-.94-.94-2.06-.94 2.06-2.06.94zm-11 1L8.5 8.5l.94-2.06 2.06-.94-2.06-.94L8.5 2.5l-.94 2.06-2.06.94zm10 10l.94 2.06.94-2.06 2.06-.94-2.06-.94-.94-2.06-.94 2.06-2.06.94z\"/><path d=\"M17.41 7.96l-1.37-1.37c-.4-.4-.92-.59-1.43-.59-.52 0-1.04.2-1.43.59L10.3 9.45l-7.72 7.72c-.78.78-.78 2.05 0 2.83L4 21.41c.39.39.9.59 1.41.59.51 0 1.02-.2 1.41-.59l7.78-7.78 2.81-2.81c.8-.78.8-2.07 0-2.86zM5.41 20L4 18.59l7.72-7.72 1.47 1.35L5.41 20z\"/>\n",
              "  </svg>\n",
              "      </button>\n",
              "      \n",
              "  <style>\n",
              "    .colab-df-container {\n",
              "      display:flex;\n",
              "      flex-wrap:wrap;\n",
              "      gap: 12px;\n",
              "    }\n",
              "\n",
              "    .colab-df-convert {\n",
              "      background-color: #E8F0FE;\n",
              "      border: none;\n",
              "      border-radius: 50%;\n",
              "      cursor: pointer;\n",
              "      display: none;\n",
              "      fill: #1967D2;\n",
              "      height: 32px;\n",
              "      padding: 0 0 0 0;\n",
              "      width: 32px;\n",
              "    }\n",
              "\n",
              "    .colab-df-convert:hover {\n",
              "      background-color: #E2EBFA;\n",
              "      box-shadow: 0px 1px 2px rgba(60, 64, 67, 0.3), 0px 1px 3px 1px rgba(60, 64, 67, 0.15);\n",
              "      fill: #174EA6;\n",
              "    }\n",
              "\n",
              "    [theme=dark] .colab-df-convert {\n",
              "      background-color: #3B4455;\n",
              "      fill: #D2E3FC;\n",
              "    }\n",
              "\n",
              "    [theme=dark] .colab-df-convert:hover {\n",
              "      background-color: #434B5C;\n",
              "      box-shadow: 0px 1px 3px 1px rgba(0, 0, 0, 0.15);\n",
              "      filter: drop-shadow(0px 1px 2px rgba(0, 0, 0, 0.3));\n",
              "      fill: #FFFFFF;\n",
              "    }\n",
              "  </style>\n",
              "\n",
              "      <script>\n",
              "        const buttonEl =\n",
              "          document.querySelector('#df-3a8502b7-65b0-47a3-8246-d7ba2270112c button.colab-df-convert');\n",
              "        buttonEl.style.display =\n",
              "          google.colab.kernel.accessAllowed ? 'block' : 'none';\n",
              "\n",
              "        async function convertToInteractive(key) {\n",
              "          const element = document.querySelector('#df-3a8502b7-65b0-47a3-8246-d7ba2270112c');\n",
              "          const dataTable =\n",
              "            await google.colab.kernel.invokeFunction('convertToInteractive',\n",
              "                                                     [key], {});\n",
              "          if (!dataTable) return;\n",
              "\n",
              "          const docLinkHtml = 'Like what you see? Visit the ' +\n",
              "            '<a target=\"_blank\" href=https://colab.research.google.com/notebooks/data_table.ipynb>data table notebook</a>'\n",
              "            + ' to learn more about interactive tables.';\n",
              "          element.innerHTML = '';\n",
              "          dataTable['output_type'] = 'display_data';\n",
              "          await google.colab.output.renderOutput(dataTable, element);\n",
              "          const docLink = document.createElement('div');\n",
              "          docLink.innerHTML = docLinkHtml;\n",
              "          element.appendChild(docLink);\n",
              "        }\n",
              "      </script>\n",
              "    </div>\n",
              "  </div>\n",
              "  "
            ]
          },
          "metadata": {},
          "execution_count": 152
        }
      ]
    },
    {
      "cell_type": "code",
      "source": [
        "#último grafo cris: 8 features\n",
        "selected = ['Suicidio', 'Drog_familia', 'Suic_familia',\n",
        "                    'Capaz de tomar decisões importantes', 'Estudante',\n",
        "                    'Hipocondriase', 'Sentimentos_culpa', \n",
        "                    'Trabalho e interesses', 'Energia']\n"
      ],
      "metadata": {
        "id": "akmY3RSRsZZO"
      },
      "execution_count": null,
      "outputs": []
    },
    {
      "cell_type": "code",
      "source": [
        "dataframe['sexo'].replace({'M': 0, 'F': 1}, inplace=True)\n",
        "dataframe['sexo'].fillna(0, inplace=True)\n",
        "\n",
        "df_suic = dataframe[selected]\n",
        "\n",
        "df_suic.dropna(inplace=True)\n",
        "df_suic = df_suic.astype(int)"
      ],
      "metadata": {
        "colab": {
          "base_uri": "https://localhost:8080/"
        },
        "id": "VGeRd0jfsbQw",
        "outputId": "cfce9568-5523-49a6-8f2c-e29d36768156"
      },
      "execution_count": null,
      "outputs": [
        {
          "output_type": "stream",
          "name": "stderr",
          "text": [
            "/usr/local/lib/python3.8/dist-packages/pandas/util/_decorators.py:311: SettingWithCopyWarning: \n",
            "A value is trying to be set on a copy of a slice from a DataFrame\n",
            "\n",
            "See the caveats in the documentation: https://pandas.pydata.org/pandas-docs/stable/user_guide/indexing.html#returning-a-view-versus-a-copy\n",
            "  return func(*args, **kwargs)\n"
          ]
        }
      ]
    },
    {
      "cell_type": "code",
      "source": [
        "df_suic"
      ],
      "metadata": {
        "colab": {
          "base_uri": "https://localhost:8080/",
          "height": 424
        },
        "id": "Qho1lqG7DXSS",
        "outputId": "721d2a56-5456-4f90-836c-53f9eea1885b"
      },
      "execution_count": null,
      "outputs": [
        {
          "output_type": "execute_result",
          "data": {
            "text/plain": [
              "      Suicidio  Drog_familia  Suic_familia  \\\n",
              "0            2             1             0   \n",
              "1            1             0             0   \n",
              "2            0             1             1   \n",
              "3            3             0             0   \n",
              "4            1             0             0   \n",
              "...        ...           ...           ...   \n",
              "3948         2             1             0   \n",
              "3949         1             0             0   \n",
              "3950         2             0             0   \n",
              "3951         0             0             0   \n",
              "3952         0             0             0   \n",
              "\n",
              "      Capaz de tomar decisões importantes  Estudante  Hipocondriase  \\\n",
              "0                                       2          0              2   \n",
              "1                                       1          0              0   \n",
              "2                                       2          0              0   \n",
              "3                                       1          0              3   \n",
              "4                                       2          0              1   \n",
              "...                                   ...        ...            ...   \n",
              "3948                                    2          0              0   \n",
              "3949                                    1          0              2   \n",
              "3950                                    1          0              2   \n",
              "3951                                    2          0              1   \n",
              "3952                                    1          1              0   \n",
              "\n",
              "      Sentimentos_culpa  Trabalho e interesses  Energia  \n",
              "0                     3                      2        2  \n",
              "1                     2                      2        2  \n",
              "2                     3                      3        2  \n",
              "3                     4                      3        2  \n",
              "4                     2                      4        2  \n",
              "...                 ...                    ...      ...  \n",
              "3948                  3                      2        2  \n",
              "3949                  2                      2        1  \n",
              "3950                  3                      3        2  \n",
              "3951                  1                      2        1  \n",
              "3952                  2                      3        2  \n",
              "\n",
              "[3933 rows x 9 columns]"
            ],
            "text/html": [
              "\n",
              "  <div id=\"df-131d3a3e-f2c8-424d-91fc-94ffdb8f520d\">\n",
              "    <div class=\"colab-df-container\">\n",
              "      <div>\n",
              "<style scoped>\n",
              "    .dataframe tbody tr th:only-of-type {\n",
              "        vertical-align: middle;\n",
              "    }\n",
              "\n",
              "    .dataframe tbody tr th {\n",
              "        vertical-align: top;\n",
              "    }\n",
              "\n",
              "    .dataframe thead th {\n",
              "        text-align: right;\n",
              "    }\n",
              "</style>\n",
              "<table border=\"1\" class=\"dataframe\">\n",
              "  <thead>\n",
              "    <tr style=\"text-align: right;\">\n",
              "      <th></th>\n",
              "      <th>Suicidio</th>\n",
              "      <th>Drog_familia</th>\n",
              "      <th>Suic_familia</th>\n",
              "      <th>Capaz de tomar decisões importantes</th>\n",
              "      <th>Estudante</th>\n",
              "      <th>Hipocondriase</th>\n",
              "      <th>Sentimentos_culpa</th>\n",
              "      <th>Trabalho e interesses</th>\n",
              "      <th>Energia</th>\n",
              "    </tr>\n",
              "  </thead>\n",
              "  <tbody>\n",
              "    <tr>\n",
              "      <th>0</th>\n",
              "      <td>2</td>\n",
              "      <td>1</td>\n",
              "      <td>0</td>\n",
              "      <td>2</td>\n",
              "      <td>0</td>\n",
              "      <td>2</td>\n",
              "      <td>3</td>\n",
              "      <td>2</td>\n",
              "      <td>2</td>\n",
              "    </tr>\n",
              "    <tr>\n",
              "      <th>1</th>\n",
              "      <td>1</td>\n",
              "      <td>0</td>\n",
              "      <td>0</td>\n",
              "      <td>1</td>\n",
              "      <td>0</td>\n",
              "      <td>0</td>\n",
              "      <td>2</td>\n",
              "      <td>2</td>\n",
              "      <td>2</td>\n",
              "    </tr>\n",
              "    <tr>\n",
              "      <th>2</th>\n",
              "      <td>0</td>\n",
              "      <td>1</td>\n",
              "      <td>1</td>\n",
              "      <td>2</td>\n",
              "      <td>0</td>\n",
              "      <td>0</td>\n",
              "      <td>3</td>\n",
              "      <td>3</td>\n",
              "      <td>2</td>\n",
              "    </tr>\n",
              "    <tr>\n",
              "      <th>3</th>\n",
              "      <td>3</td>\n",
              "      <td>0</td>\n",
              "      <td>0</td>\n",
              "      <td>1</td>\n",
              "      <td>0</td>\n",
              "      <td>3</td>\n",
              "      <td>4</td>\n",
              "      <td>3</td>\n",
              "      <td>2</td>\n",
              "    </tr>\n",
              "    <tr>\n",
              "      <th>4</th>\n",
              "      <td>1</td>\n",
              "      <td>0</td>\n",
              "      <td>0</td>\n",
              "      <td>2</td>\n",
              "      <td>0</td>\n",
              "      <td>1</td>\n",
              "      <td>2</td>\n",
              "      <td>4</td>\n",
              "      <td>2</td>\n",
              "    </tr>\n",
              "    <tr>\n",
              "      <th>...</th>\n",
              "      <td>...</td>\n",
              "      <td>...</td>\n",
              "      <td>...</td>\n",
              "      <td>...</td>\n",
              "      <td>...</td>\n",
              "      <td>...</td>\n",
              "      <td>...</td>\n",
              "      <td>...</td>\n",
              "      <td>...</td>\n",
              "    </tr>\n",
              "    <tr>\n",
              "      <th>3948</th>\n",
              "      <td>2</td>\n",
              "      <td>1</td>\n",
              "      <td>0</td>\n",
              "      <td>2</td>\n",
              "      <td>0</td>\n",
              "      <td>0</td>\n",
              "      <td>3</td>\n",
              "      <td>2</td>\n",
              "      <td>2</td>\n",
              "    </tr>\n",
              "    <tr>\n",
              "      <th>3949</th>\n",
              "      <td>1</td>\n",
              "      <td>0</td>\n",
              "      <td>0</td>\n",
              "      <td>1</td>\n",
              "      <td>0</td>\n",
              "      <td>2</td>\n",
              "      <td>2</td>\n",
              "      <td>2</td>\n",
              "      <td>1</td>\n",
              "    </tr>\n",
              "    <tr>\n",
              "      <th>3950</th>\n",
              "      <td>2</td>\n",
              "      <td>0</td>\n",
              "      <td>0</td>\n",
              "      <td>1</td>\n",
              "      <td>0</td>\n",
              "      <td>2</td>\n",
              "      <td>3</td>\n",
              "      <td>3</td>\n",
              "      <td>2</td>\n",
              "    </tr>\n",
              "    <tr>\n",
              "      <th>3951</th>\n",
              "      <td>0</td>\n",
              "      <td>0</td>\n",
              "      <td>0</td>\n",
              "      <td>2</td>\n",
              "      <td>0</td>\n",
              "      <td>1</td>\n",
              "      <td>1</td>\n",
              "      <td>2</td>\n",
              "      <td>1</td>\n",
              "    </tr>\n",
              "    <tr>\n",
              "      <th>3952</th>\n",
              "      <td>0</td>\n",
              "      <td>0</td>\n",
              "      <td>0</td>\n",
              "      <td>1</td>\n",
              "      <td>1</td>\n",
              "      <td>0</td>\n",
              "      <td>2</td>\n",
              "      <td>3</td>\n",
              "      <td>2</td>\n",
              "    </tr>\n",
              "  </tbody>\n",
              "</table>\n",
              "<p>3933 rows × 9 columns</p>\n",
              "</div>\n",
              "      <button class=\"colab-df-convert\" onclick=\"convertToInteractive('df-131d3a3e-f2c8-424d-91fc-94ffdb8f520d')\"\n",
              "              title=\"Convert this dataframe to an interactive table.\"\n",
              "              style=\"display:none;\">\n",
              "        \n",
              "  <svg xmlns=\"http://www.w3.org/2000/svg\" height=\"24px\"viewBox=\"0 0 24 24\"\n",
              "       width=\"24px\">\n",
              "    <path d=\"M0 0h24v24H0V0z\" fill=\"none\"/>\n",
              "    <path d=\"M18.56 5.44l.94 2.06.94-2.06 2.06-.94-2.06-.94-.94-2.06-.94 2.06-2.06.94zm-11 1L8.5 8.5l.94-2.06 2.06-.94-2.06-.94L8.5 2.5l-.94 2.06-2.06.94zm10 10l.94 2.06.94-2.06 2.06-.94-2.06-.94-.94-2.06-.94 2.06-2.06.94z\"/><path d=\"M17.41 7.96l-1.37-1.37c-.4-.4-.92-.59-1.43-.59-.52 0-1.04.2-1.43.59L10.3 9.45l-7.72 7.72c-.78.78-.78 2.05 0 2.83L4 21.41c.39.39.9.59 1.41.59.51 0 1.02-.2 1.41-.59l7.78-7.78 2.81-2.81c.8-.78.8-2.07 0-2.86zM5.41 20L4 18.59l7.72-7.72 1.47 1.35L5.41 20z\"/>\n",
              "  </svg>\n",
              "      </button>\n",
              "      \n",
              "  <style>\n",
              "    .colab-df-container {\n",
              "      display:flex;\n",
              "      flex-wrap:wrap;\n",
              "      gap: 12px;\n",
              "    }\n",
              "\n",
              "    .colab-df-convert {\n",
              "      background-color: #E8F0FE;\n",
              "      border: none;\n",
              "      border-radius: 50%;\n",
              "      cursor: pointer;\n",
              "      display: none;\n",
              "      fill: #1967D2;\n",
              "      height: 32px;\n",
              "      padding: 0 0 0 0;\n",
              "      width: 32px;\n",
              "    }\n",
              "\n",
              "    .colab-df-convert:hover {\n",
              "      background-color: #E2EBFA;\n",
              "      box-shadow: 0px 1px 2px rgba(60, 64, 67, 0.3), 0px 1px 3px 1px rgba(60, 64, 67, 0.15);\n",
              "      fill: #174EA6;\n",
              "    }\n",
              "\n",
              "    [theme=dark] .colab-df-convert {\n",
              "      background-color: #3B4455;\n",
              "      fill: #D2E3FC;\n",
              "    }\n",
              "\n",
              "    [theme=dark] .colab-df-convert:hover {\n",
              "      background-color: #434B5C;\n",
              "      box-shadow: 0px 1px 3px 1px rgba(0, 0, 0, 0.15);\n",
              "      filter: drop-shadow(0px 1px 2px rgba(0, 0, 0, 0.3));\n",
              "      fill: #FFFFFF;\n",
              "    }\n",
              "  </style>\n",
              "\n",
              "      <script>\n",
              "        const buttonEl =\n",
              "          document.querySelector('#df-131d3a3e-f2c8-424d-91fc-94ffdb8f520d button.colab-df-convert');\n",
              "        buttonEl.style.display =\n",
              "          google.colab.kernel.accessAllowed ? 'block' : 'none';\n",
              "\n",
              "        async function convertToInteractive(key) {\n",
              "          const element = document.querySelector('#df-131d3a3e-f2c8-424d-91fc-94ffdb8f520d');\n",
              "          const dataTable =\n",
              "            await google.colab.kernel.invokeFunction('convertToInteractive',\n",
              "                                                     [key], {});\n",
              "          if (!dataTable) return;\n",
              "\n",
              "          const docLinkHtml = 'Like what you see? Visit the ' +\n",
              "            '<a target=\"_blank\" href=https://colab.research.google.com/notebooks/data_table.ipynb>data table notebook</a>'\n",
              "            + ' to learn more about interactive tables.';\n",
              "          element.innerHTML = '';\n",
              "          dataTable['output_type'] = 'display_data';\n",
              "          await google.colab.output.renderOutput(dataTable, element);\n",
              "          const docLink = document.createElement('div');\n",
              "          docLink.innerHTML = docLinkHtml;\n",
              "          element.appendChild(docLink);\n",
              "        }\n",
              "      </script>\n",
              "    </div>\n",
              "  </div>\n",
              "  "
            ]
          },
          "metadata": {},
          "execution_count": 155
        }
      ]
    },
    {
      "cell_type": "code",
      "source": [
        "class MyDataset(Dataset):\n",
        " \n",
        "  def __init__(self, input_dataframe, split=\"train\", target=\"Suicidio\", ignore_columns=[], train_ratio=0.8): \n",
        "    \n",
        "    self.split = split\n",
        "    self.target = target\n",
        "    self.ignore_columns = ignore_columns\n",
        "\n",
        "    for coll in self.ignore_columns:\n",
        "       if coll in input_dataframe.columns:\n",
        "        input_dataframe = input_dataframe.drop(coll, axis=1)\n",
        "\n",
        "    self.classification_dim = len(input_dataframe[self.target].unique())\n",
        "    self.data_dim = len(input_dataframe.columns) - 1\n",
        "    self.embbeding_dim = input_dataframe.max().max() + 1\n",
        "\n",
        "    y = input_dataframe[target].values \n",
        "    x = input_dataframe.drop(target, axis = 1).values \n",
        "\n",
        "    self.x_train, self.x_test, self.y_train, self.y_test = train_test_split(x, y, test_size=1-train_ratio, random_state=42) \n",
        "\n",
        "  def __len__(self):\n",
        "    if self.split == \"train\":\n",
        "      return len(self.x_train)\n",
        "    elif self.split == \"test\":\n",
        "      return len(self.x_test)\n",
        "    else:\n",
        "      raise ValueError(\"Split must be train or test\")\n",
        "\n",
        "  def __getitem__(self,idx):\n",
        "      target = torch.zeros(self.classification_dim) \n",
        "      if self.split == \"train\":\n",
        "          target[self.y_train[idx]] = 1\n",
        "          return (torch.tensor(self.x_train[idx]), target) \n",
        "      elif self.split == \"test\":\n",
        "          target[self.y_test[idx]] = 1\n",
        "          return (torch.tensor(self.x_test[idx]), target)\n",
        "      else:\n",
        "          raise ValueError(\"Split must be train or test\")"
      ],
      "metadata": {
        "id": "mUT8pPB-snu2"
      },
      "execution_count": null,
      "outputs": []
    },
    {
      "cell_type": "code",
      "source": [
        "# Define a MLP model with N layers: rede neural de 2 camadas\n",
        "\n",
        "import torch.nn as nn\n",
        "import torch.nn.functional as F\n",
        "\n",
        "class MLP(nn.Module):\n",
        "    def __init__(self, input_dim, output_dim, hidden_dim=128, n_layers=2):\n",
        "        super(MLP, self).__init__()\n",
        "        self.input_dim = input_dim\n",
        "        self.output_dim = output_dim\n",
        "        self.hidden_dim = hidden_dim\n",
        "        self.n_layers = n_layers\n",
        "    \n",
        "        self.layers = nn.ModuleList() \n",
        "        self.layers.append(nn.Linear(self.input_dim, self.hidden_dim)) \n",
        "        for i in range(self.n_layers - 1):\n",
        "            self.layers.append(nn.Linear(self.hidden_dim, self.hidden_dim))\n",
        "            self.layers.append(nn.Dropout(0.5)) \n",
        "            self.layers.append(nn.LeakyReLU())\n",
        "            \n",
        "        self.layers.append(nn.Linear(self.hidden_dim, self.output_dim))\n",
        "    \n",
        "    def forward(self, x):\n",
        "        for layer in self.layers:\n",
        "            x = layer(x)           \n",
        "        return x\n"
      ],
      "metadata": {
        "id": "hq_fWixTstzH"
      },
      "execution_count": null,
      "outputs": []
    },
    {
      "cell_type": "code",
      "source": [
        "# Define a Model with a embbeding layer and a MLP\n",
        "\n",
        "class ClassificationModel(nn.Module):\n",
        "    def __init__(self, input_dim, output_dim, embbeding_dim, hidden_out, hidden_dim=128, n_layers=2):   \n",
        "        super(ClassificationModel, self).__init__()\n",
        "        self.input_dim = input_dim\n",
        "        self.output_dim = output_dim\n",
        "        self.embbeding_dim = embbeding_dim\n",
        "        self.embbeding_out = hidden_out\n",
        "        self.hidden_dim = hidden_dim\n",
        "        self.n_layers = n_layers\n",
        "\n",
        "        self.embbeding_layer = nn.Embedding(self.embbeding_dim, self.embbeding_out) \n",
        "        self.mlp = MLP(self.input_dim * self.embbeding_out, self.output_dim, self.hidden_dim, self.n_layers) \n",
        "        \n",
        "    def forward(self, x):\n",
        "        x = self.embbeding_layer(x)\n",
        "        x = x.view(x.shape[0], -1)\n",
        "        x = self.mlp(x)\n",
        "        ## classification\n",
        "        x = F.softmax(x, dim=1)\n",
        "        return x"
      ],
      "metadata": {
        "id": "Kpr4m-W0syV-"
      },
      "execution_count": null,
      "outputs": []
    },
    {
      "cell_type": "code",
      "source": [
        "# Make Lightning Module\n",
        "from pytorch_lightning import LightningModule\n",
        "from torchmetrics import MaxMetric, MeanMetric\n",
        "from torchmetrics.classification.accuracy import Accuracy\n",
        "\n",
        "class BaseModel(LightningModule):\n",
        "    \"\"\"A LightningModule organizes your PyTorch code into 6 sections:\n",
        "        - Computations (init)\n",
        "        - Validation loop (validation_step)\n",
        "        - Train loop (training_step)\n",
        "        - Test loop (test_step)\n",
        "        - Prediction Loop (predict_step)\n",
        "        - Optimizers and LR Schedulers (configure_optimizers)\n",
        "    \"\"\"\n",
        "\n",
        "    def __init__(self, input_dim, output_dim, embedding_dim, embedding_out, hidden_dim):\n",
        "        super().__init__()\n",
        "        self.model = ClassificationModel(input_dim, output_dim, embedding_dim, embedding_out, hidden_dim=hidden_dim, n_layers=2)\n",
        "        self.lr = 1e-3 # taxa de aprendizado: 0.001\n",
        "\n",
        "        self.save_hyperparameters()\n",
        "        \n",
        "        # metric objects for calculating and averaging accuracy across batches\n",
        "        self.accuracy = Accuracy(task='multiclass', num_classes=5)\n",
        "        \n",
        "        # for tracking best so far validation accuracy\n",
        "        self.val_acc_best = MaxMetric()\n",
        "    \n",
        "    def step(self, batch):\n",
        "        x, y = batch\n",
        "        y_hat = self.model(x).squeeze().float()\n",
        "        # loss function\n",
        "        loss = F.binary_cross_entropy(y_hat, y)\n",
        "        acc = self.accuracy(y_hat, y.int())\n",
        "        return loss, acc\n",
        "   \n",
        "    def training_step(self, batch, batch_idx):\n",
        "        loss, acc = self.step(batch)\n",
        "        self.log('train_loss', loss, prog_bar=True)        \n",
        "        self.log('train_acc', acc,  prog_bar=True)\n",
        "        return loss\n",
        "    \n",
        "    def validation_step(self, batch, batch_idx):\n",
        "        loss, acc = self.step(batch)\n",
        "        self.log('val_loss', loss)      \n",
        "        self.log('val_acc', acc,  prog_bar=True)\n",
        "        return loss\n",
        "    \n",
        "    # gradiente\n",
        "    def configure_optimizers(self):\n",
        "        \"\"\"Choose what optimizers and learning-rate schedulers to use in your optimization.\n",
        "        Normally you'd need one. But in the case of GANs or similar you might have multiple.\n",
        "\n",
        "        Examples:\n",
        "            https://pytorch-lightning.readthedocs.io/en/latest/common/lightning_module.html#configure-optimizers\n",
        "        \"\"\"\n",
        "        optimizer = torch.optim.Adam(self.parameters(), lr=self.lr)\n",
        "        return optimizer"
      ],
      "metadata": {
        "id": "4MgFJBB6s9zH"
      },
      "execution_count": null,
      "outputs": []
    },
    {
      "cell_type": "code",
      "source": [
        "# Import trainer\n",
        "from pytorch_lightning.trainer import Trainer"
      ],
      "metadata": {
        "id": "gsvEYG92tBDP"
      },
      "execution_count": null,
      "outputs": []
    },
    {
      "cell_type": "code",
      "source": [
        "# Import callbacks\n",
        "from pytorch_lightning.callbacks import ModelCheckpoint, EarlyStopping\n",
        "\n",
        "# Initialize callbacks\n",
        "\n",
        "# Salve o modelo periodicamente monitorando uma quantidade.\n",
        "checkpoint_callback = ModelCheckpoint(\n",
        "    monitor='val_loss',\n",
        "    dirpath='checkpoints/', \n",
        "    filename='best-checkpoint', \n",
        "    save_top_k=1, \n",
        "    mode='min',\n",
        ")\n",
        "\n",
        "# Monitore uma métrica e interrompa o treinamento quando ela parar de melhorar.\n",
        "early_stopping = EarlyStopping(\n",
        "    monitor='val_loss', \n",
        "    min_delta=0.05, \n",
        "    patience=10, \n",
        "    verbose=False, \n",
        "    mode='min' \n",
        ")\n",
        "\n",
        "callbacks = [checkpoint_callback, early_stopping]\n",
        "\n",
        "\n",
        "# Initialize a trainer\n",
        "trainer = Trainer(\n",
        "    #accelerator='gpu',\n",
        "    accelerator='cpu', \n",
        "    devices=1, \n",
        "    check_val_every_n_epoch=10, \n",
        "    log_every_n_steps=10, \n",
        "    callbacks=callbacks, \n",
        "    auto_lr_find=True, \n",
        "    enable_progress_bar=False\n",
        "    ) "
      ],
      "metadata": {
        "colab": {
          "base_uri": "https://localhost:8080/"
        },
        "id": "xr9oDvjQTD9b",
        "outputId": "2a73c3b6-55df-4dde-c4a7-7410a938542a"
      },
      "execution_count": null,
      "outputs": [
        {
          "output_type": "stream",
          "name": "stderr",
          "text": [
            "INFO:pytorch_lightning.utilities.rank_zero:GPU available: False, used: False\n",
            "INFO:pytorch_lightning.utilities.rank_zero:TPU available: False, using: 0 TPU cores\n",
            "INFO:pytorch_lightning.utilities.rank_zero:IPU available: False, using: 0 IPUs\n",
            "INFO:pytorch_lightning.utilities.rank_zero:HPU available: False, using: 0 HPUs\n"
          ]
        }
      ]
    },
    {
      "cell_type": "code",
      "source": [
        "model = BaseModel.load_from_checkpoint(\"/content/best-checkpoint-v31.ckpt\")"
      ],
      "metadata": {
        "id": "s_IBwTbFk3yg"
      },
      "execution_count": null,
      "outputs": []
    },
    {
      "cell_type": "code",
      "source": [
        "#from captum.attr import ShapleyValues\n",
        "from captum.attr import ShapleyValueSampling"
      ],
      "metadata": {
        "id": "_BTMwOerwbDq"
      },
      "execution_count": null,
      "outputs": []
    },
    {
      "cell_type": "code",
      "source": [
        "df_suic_0 = df_suic.loc[df_suic.Suicidio == 0]\n",
        "df_suic_1 = df_suic.loc[df_suic.Suicidio == 1]\n",
        "df_suic_2 = df_suic.loc[df_suic.Suicidio == 2]\n",
        "df_suic_3 = df_suic.loc[df_suic.Suicidio == 3]\n",
        "df_suic_4 = df_suic.loc[df_suic.Suicidio == 4]"
      ],
      "metadata": {
        "id": "_iDp2p0_zoKE"
      },
      "execution_count": null,
      "outputs": []
    },
    {
      "cell_type": "code",
      "source": [
        "svs = ShapleyValueSampling(model.model.forward)"
      ],
      "metadata": {
        "id": "QvtNIzROUkXf"
      },
      "execution_count": null,
      "outputs": []
    },
    {
      "cell_type": "code",
      "source": [
        "sample_df_suic_0 = df_suic_0.sample(n=10, random_state=42)\n",
        "sample_df_suic_1 = df_suic_1.sample(n=10, random_state=42)\n",
        "sample_df_suic_2 = df_suic_2.sample(n=10, random_state=42)\n",
        "sample_df_suic_3 = df_suic_3.sample(n=10, random_state=42)\n",
        "#sample_df_suic_4 = df_suic_4.sample(n=10, random_state=42)"
      ],
      "metadata": {
        "id": "E84ChWqoHhs8"
      },
      "execution_count": null,
      "outputs": []
    },
    {
      "cell_type": "code",
      "source": [
        "tensor_suic_0 = torch.tensor(df_suic_0.drop(labels='Suicidio', axis='columns').values)\n",
        "tensor_suic_1 = torch.tensor(df_suic_1.drop(labels='Suicidio', axis='columns').values)\n",
        "tensor_suic_2 = torch.tensor(df_suic_2.drop(labels='Suicidio', axis='columns').values)\n",
        "tensor_suic_3 = torch.tensor(df_suic_3.drop(labels='Suicidio', axis='columns').values)\n",
        "tensor_suic_4 = torch.tensor(df_suic_4.drop(labels='Suicidio', axis='columns').values)"
      ],
      "metadata": {
        "id": "Is7J9Arv28Xq"
      },
      "execution_count": null,
      "outputs": []
    },
    {
      "cell_type": "code",
      "source": [
        "attr_tensor_suic_0 = svs.attribute(tensor_suic_0, target=0)\n",
        "attr_tensor_suic_1 = svs.attribute(tensor_suic_1, target=1)\n",
        "attr_tensor_suic_2 = svs.attribute(tensor_suic_2, target=2)\n",
        "attr_tensor_suic_3 = svs.attribute(tensor_suic_3, target=3)\n",
        "attr_tensor_suic_4 = svs.attribute(tensor_suic_4, target=4)"
      ],
      "metadata": {
        "id": "lnido3eD3ZWx"
      },
      "execution_count": null,
      "outputs": []
    },
    {
      "cell_type": "code",
      "source": [
        "feature_names = list(df_suic.drop(labels='Suicidio', axis='columns').columns)\n",
        "feature_names"
      ],
      "metadata": {
        "colab": {
          "base_uri": "https://localhost:8080/"
        },
        "id": "ISJOG1k2eqgO",
        "outputId": "1d39b4b9-d888-4a94-db88-5e6b9544dfab"
      },
      "execution_count": null,
      "outputs": [
        {
          "output_type": "execute_result",
          "data": {
            "text/plain": [
              "['Drog_familia',\n",
              " 'Suic_familia',\n",
              " 'Capaz de tomar decisões importantes',\n",
              " 'Estudante',\n",
              " 'Hipocondriase',\n",
              " 'Sentimentos_culpa',\n",
              " 'Trabalho e interesses',\n",
              " 'Energia']"
            ]
          },
          "metadata": {},
          "execution_count": 169
        }
      ]
    },
    {
      "cell_type": "code",
      "source": [
        "import matplotlib\n",
        "import matplotlib.pyplot as plt"
      ],
      "metadata": {
        "id": "dup0Bn03fVeF"
      },
      "execution_count": null,
      "outputs": []
    },
    {
      "cell_type": "code",
      "source": [
        "# Helper method to print importances and visualize distribution\n",
        "def visualize_importances(feature_names, importances, title=\"Average Feature Importances\", plot=True):\n",
        "    print(title)\n",
        "    for i in range(len(feature_names)):\n",
        "        print(feature_names[i], \": \", '%.3f'%(importances[i]))\n",
        "    x_pos = (np.arange(len(feature_names)))\n",
        "    if plot:\n",
        "        plt.figure(figsize=(12,6))\n",
        "        plt.bar(x_pos, importances, align='center')\n",
        "        plt.xticks(x_pos, feature_names, wrap=True)\n",
        "        plt.xticks(rotation=20, ha='right')\n",
        "        plt.xlabel(\"Features\")\n",
        "        plt.ylabel(\"Average Feature Importances\")\n",
        "        plt.grid(True)\n",
        "        plt.title(title)"
      ],
      "metadata": {
        "id": "tU8UEnH2ba1T"
      },
      "execution_count": null,
      "outputs": []
    },
    {
      "cell_type": "code",
      "source": [
        "attr_np_0 = attr_tensor_suic_0.detach().numpy()\n",
        "attr_np_1 = attr_tensor_suic_1.detach().numpy()\n",
        "attr_np_2 = attr_tensor_suic_2.detach().numpy()\n",
        "attr_np_3 = attr_tensor_suic_3.detach().numpy()\n",
        "attr_np_4 = attr_tensor_suic_4.detach().numpy()"
      ],
      "metadata": {
        "id": "_FEbLCAL2oCr"
      },
      "execution_count": null,
      "outputs": []
    },
    {
      "cell_type": "code",
      "source": [
        "visualize_importances(feature_names, np.mean(attr_np_0, axis=0), title=\"Classe Suícidio = 0\")\n",
        "plt.savefig(\"shap_suicidio_0.png\")"
      ],
      "metadata": {
        "colab": {
          "base_uri": "https://localhost:8080/",
          "height": 631
        },
        "id": "O-BAUyq25vdR",
        "outputId": "7dc94e96-2d83-431e-e275-64897ed008c0"
      },
      "execution_count": null,
      "outputs": [
        {
          "output_type": "stream",
          "name": "stdout",
          "text": [
            "Classe Suícidio = 0\n",
            "Drog_familia :  -0.011\n",
            "Suic_familia :  0.004\n",
            "Capaz de tomar decisões importantes :  0.007\n",
            "Estudante :  -0.002\n",
            "Hipocondriase :  0.055\n",
            "Sentimentos_culpa :  -0.133\n",
            "Trabalho e interesses :  -0.205\n",
            "Energia :  -0.009\n"
          ]
        },
        {
          "output_type": "display_data",
          "data": {
            "text/plain": [
              "<Figure size 864x432 with 1 Axes>"
            ],
            "image/png": "[encoded data removed]"
          },
          "metadata": {
            "needs_background": "light"
          }
        }
      ]
    },
    {
      "cell_type": "code",
      "source": [
        "visualize_importances(feature_names, np.mean(attr_np_1, axis=0), title=\"Classe Suícidio = 1\")\n",
        "plt.savefig(\"shap_suicidio_1.png\")"
      ],
      "metadata": {
        "colab": {
          "base_uri": "https://localhost:8080/",
          "height": 631
        },
        "id": "RjohyCj15v2P",
        "outputId": "7761e73a-d3a4-474d-f422-556faa9db1f8"
      },
      "execution_count": null,
      "outputs": [
        {
          "output_type": "stream",
          "name": "stdout",
          "text": [
            "Classe Suícidio = 1\n",
            "Drog_familia :  0.005\n",
            "Suic_familia :  -0.003\n",
            "Capaz de tomar decisões importantes :  0.018\n",
            "Estudante :  0.003\n",
            "Hipocondriase :  -0.021\n",
            "Sentimentos_culpa :  0.064\n",
            "Trabalho e interesses :  0.125\n",
            "Energia :  0.012\n"
          ]
        },
        {
          "output_type": "display_data",
          "data": {
            "text/plain": [
              "<Figure size 864x432 with 1 Axes>"
            ],
            "image/png": "[encoded data removed]"
          },
          "metadata": {
            "needs_background": "light"
          }
        }
      ]
    },
    {
      "cell_type": "code",
      "source": [
        "visualize_importances(feature_names, np.mean(attr_np_2, axis=0), title=\"Classe Suícidio = 2\")\n",
        "plt.savefig(\"shap_suicidio_2.png\")"
      ],
      "metadata": {
        "colab": {
          "base_uri": "https://localhost:8080/",
          "height": 631
        },
        "id": "6JegEjob3ve3",
        "outputId": "6aa0e7ad-f3ba-4cfa-dbef-221163b43471"
      },
      "execution_count": null,
      "outputs": [
        {
          "output_type": "stream",
          "name": "stdout",
          "text": [
            "Classe Suícidio = 2\n",
            "Drog_familia :  0.003\n",
            "Suic_familia :  0.001\n",
            "Capaz de tomar decisões importantes :  -0.017\n",
            "Estudante :  -0.001\n",
            "Hipocondriase :  -0.006\n",
            "Sentimentos_culpa :  0.069\n",
            "Trabalho e interesses :  0.084\n",
            "Energia :  0.003\n"
          ]
        },
        {
          "output_type": "display_data",
          "data": {
            "text/plain": [
              "<Figure size 864x432 with 1 Axes>"
            ],
            "image/png": "[encoded data removed]"
          },
          "metadata": {
            "needs_background": "light"
          }
        }
      ]
    },
    {
      "cell_type": "code",
      "source": [
        "visualize_importances(feature_names, np.mean(attr_np_3, axis=0), title=\"Classe Suícidio = 3\")\n",
        "plt.savefig(\"shap_suicidio_3.png\")"
      ],
      "metadata": {
        "colab": {
          "base_uri": "https://localhost:8080/",
          "height": 631
        },
        "id": "B7iOqT2Q3zPx",
        "outputId": "f0a3a217-d549-4bde-b497-a1b8155dbf6d"
      },
      "execution_count": null,
      "outputs": [
        {
          "output_type": "stream",
          "name": "stdout",
          "text": [
            "Classe Suícidio = 3\n",
            "Drog_familia :  -0.001\n",
            "Suic_familia :  0.001\n",
            "Capaz de tomar decisões importantes :  -0.009\n",
            "Estudante :  -0.001\n",
            "Hipocondriase :  -0.003\n",
            "Sentimentos_culpa :  0.024\n",
            "Trabalho e interesses :  0.021\n",
            "Energia :  -0.004\n"
          ]
        },
        {
          "output_type": "display_data",
          "data": {
            "text/plain": [
              "<Figure size 864x432 with 1 Axes>"
            ],
            "image/png": "[encoded data removed]"
          },
          "metadata": {
            "needs_background": "light"
          }
        }
      ]
    },
    {
      "cell_type": "code",
      "source": [
        "visualize_importances(feature_names, np.mean(attr_np_4, axis=0), title=\"Classe Suícidio = 4\")\n",
        "plt.savefig(\"shap_suicidio_4.png\")"
      ],
      "metadata": {
        "colab": {
          "base_uri": "https://localhost:8080/",
          "height": 631
        },
        "id": "g3snfuAo3yYr",
        "outputId": "f75c2861-3c06-4e9f-d984-99ca5efbd58f"
      },
      "execution_count": null,
      "outputs": [
        {
          "output_type": "stream",
          "name": "stdout",
          "text": [
            "Classe Suícidio = 4\n",
            "Drog_familia :  -0.002\n",
            "Suic_familia :  0.004\n",
            "Capaz de tomar decisões importantes :  -0.007\n",
            "Estudante :  0.001\n",
            "Hipocondriase :  0.000\n",
            "Sentimentos_culpa :  0.012\n",
            "Trabalho e interesses :  0.009\n",
            "Energia :  -0.002\n"
          ]
        },
        {
          "output_type": "display_data",
          "data": {
            "text/plain": [
              "<Figure size 864x432 with 1 Axes>"
            ],
            "image/png": "[encoded data removed]"
          },
          "metadata": {
            "needs_background": "light"
          }
        }
      ]
    }
  ]
}